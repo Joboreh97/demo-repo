{
  "cells": [
    {
      "cell_type": "markdown",
      "metadata": {
        "id": "view-in-github",
        "colab_type": "text"
      },
      "source": [
        "<a href=\"https://colab.research.google.com/github/Joboreh97/demo-repo/blob/main/TinyML.ipynb\" target=\"_parent\"><img src=\"https://colab.research.google.com/assets/colab-badge.svg\" alt=\"Open In Colab\"/></a>"
      ]
    },
    {
      "cell_type": "markdown",
      "metadata": {
        "id": "MzHYKcWEHTGu"
      },
      "source": [
        "<table class=\"tfo-notebook-buttons\" align=\"left\">\n",
        "  <td>\n",
        "    <a target=\"_blank\" href=\"https://colab.research.google.com/github/ds-kiel/TinyML-Labs/blob/WS24-25/Lab2.ipynb\"><img src=\"https://www.tensorflow.org/images/colab_logo_32px.png\" />Run in Google Colab</a>\n",
        "  </td>\n",
        "  <td>\n",
        "    <a target=\"_blank\" href=\"https://github.com/ds-kiel/TinyML-Labs/blob/WS24-25/Lab2.ipynb\"><img src=\"https://www.tensorflow.org/images/GitHub-Mark-32px.png\" />View source on GitHub</a>\n",
        "  </td>\n",
        "  <td>\n",
        "    <a href=\"https://raw.githubusercontent.com/ds-kiel/TinyML-Labs/WS24-25/Lab2.ipynb\" download><img src=\"https://www.tensorflow.org/images/download_logo_32px.png\" />Download notebook</a>\n",
        "  </td>\n",
        "</table>"
      ]
    },
    {
      "cell_type": "markdown",
      "metadata": {
        "id": "OvrMU-DIHePo"
      },
      "source": [
        "# Quantization and On-Device Execution (Lab 2 & 3)\n",
        "\n",
        "In the first lab you looked at the first part of the pipeline from data to executing models on low-power devices. You explored how to preprocess data and train neural networks with Edge Impulse. In this lab we continue the pipeline and you will explore how to [convert](https://ai.google.dev/edge/litert/models/convert_tf) a model to a [LiteRT](https://ai.google.dev/edge/litert) model, how to [quantize](https://ai.google.dev/edge/litert/models/post_training_integer_quant) [a model](https://www.tensorflow.org/model_optimization/guide/quantization/post_training), how to use [quantization-aware training](https://www.tensorflow.org/model_optimization/guide/quantization/training) and finally how to deploy the model and use the model with a microcontroller. **Come back to these documents in case you get stuck**.\n",
        "\n",
        "You will explore the full pipeline from data to device using Tensorflow. You will train a model and convert, deploy, and execute it on a microcontroller, specifically the [Arduino Nano 33 BLE Sense](https://store.arduino.cc/products/arduino-tiny-machine-learning-kit).\n",
        "\n",
        "This file is for both labs 2 and 3. Lab 2 is about generating a model in TF and quanizizing it. Lab 3 is then about the deployment.\n",
        "\n",
        "## Environment\n",
        "\n",
        "The instructions for this lab come as a [Jupyter Notebook](https://jupyter.org/). You can run it locally in your own Python environment, but we recommend you to use [Google Colab](https://colab.research.google.com) to save your compute ressources, have an instantly working python environment, and allow for easy collaboration. If your decide to use your local computer, take a look at Python virtual environments to avoid messing with your usual Python environment.\n",
        "\n",
        "## What do you need to hand in?\n",
        "\n",
        "Please complete the tasks by (a) completing the coding tasks and (b) answer the questions (please write a few lines directly in the notebook after the **Answer:** element). Thus, this Jupyter Notebook is intended as a document that you use both for working on the lab as well as for answering the questions. Once completed with lab 2 (or lab 3) let the teacher know. Be ready to demonstrate your results and show your code & answers to the tasks."
      ]
    },
    {
      "cell_type": "markdown",
      "source": [
        "# Lab 2: Quantization"
      ],
      "metadata": {
        "id": "AA7veEy6jbjE"
      }
    },
    {
      "cell_type": "markdown",
      "metadata": {
        "id": "p2d8yFY1GUX1"
      },
      "source": [
        "## Setup"
      ]
    },
    {
      "cell_type": "code",
      "execution_count": null,
      "metadata": {
        "id": "fOJvKcsUGWH1"
      },
      "outputs": [],
      "source": [
        "# If you have not done so already, install the following dependencies (if you are in a local envoronment, you might need to install some more)\n",
        "!python -m pip install tensorflow>=2.3 matplotlib seaborn cbor2"
      ]
    },
    {
      "cell_type": "markdown",
      "metadata": {
        "id": "eTICd15rGZGx"
      },
      "source": [
        "### Imports"
      ]
    },
    {
      "cell_type": "code",
      "execution_count": null,
      "metadata": {
        "id": "y7yRUuJUGaq-",
        "colab": {
          "base_uri": "https://localhost:8080/"
        },
        "outputId": "f872b6e8-6149-42f8-8a51-292fcfa00f8a"
      },
      "outputs": [
        {
          "output_type": "stream",
          "name": "stdout",
          "text": [
            "Mounted at /content/drive\n"
          ]
        }
      ],
      "source": [
        "import numpy as np\n",
        "import pandas as pd\n",
        "import os\n",
        "import cbor2\n",
        "\n",
        "import tensorflow as tf\n",
        "from tensorflow import keras\n",
        "from keras.models import Sequential\n",
        "from keras.layers import Conv2D, MaxPooling2D, Dense, Flatten, Dropout\n",
        "from keras.callbacks import EarlyStopping\n",
        "\n",
        "from sklearn.model_selection import train_test_split\n",
        "from sklearn.metrics import confusion_matrix\n",
        "#import edgeimpulse as ei\n",
        "\n",
        "import matplotlib.pyplot as plt\n",
        "import seaborn as sns\n",
        "\n",
        "#disable this if you are not using Google Colab\n",
        "from google.colab import drive\n",
        "drive.mount('/content/drive')"
      ]
    },
    {
      "cell_type": "markdown",
      "metadata": {
        "id": "yhIKkymAGfqu"
      },
      "source": [
        "### Helper Functions"
      ]
    },
    {
      "cell_type": "code",
      "execution_count": null,
      "metadata": {
        "id": "WRxTHnJcGk0a"
      },
      "outputs": [],
      "source": [
        "def plot_training_history(history, model_name):\n",
        "    fig, (ax1, ax2) = plt.subplots(1, 2)\n",
        "    fig.suptitle(f'Model {model_name}')\n",
        "    fig.set_figwidth(15)\n",
        "\n",
        "    ax1.plot(range(1, len(history.history['accuracy'])+1), history.history['accuracy'])\n",
        "    ax1.plot(range(1, len(history.history['val_accuracy'])+1), history.history['val_accuracy'])\n",
        "    ax1.set_title('Model accuracy')\n",
        "    ax1.set(xlabel='epoch', ylabel='accuracy')\n",
        "    ax1.legend(['training', 'validation'], loc='best')\n",
        "\n",
        "    ax2.plot(range(1, len(history.history['loss'])+1), history.history['loss'])\n",
        "    ax2.plot(range(1, len(history.history['val_loss'])+1), history.history['val_loss'])\n",
        "    ax2.set_title('Model loss')\n",
        "    ax2.set(xlabel='epoch', ylabel='loss')\n",
        "    ax2.legend(['training', 'validation'], loc='best')\n",
        "    plt.show()"
      ]
    },
    {
      "cell_type": "markdown",
      "metadata": {
        "id": "mp9j7urCG-6E"
      },
      "source": [
        "## Edge Impulse Dataset"
      ]
    },
    {
      "cell_type": "markdown",
      "metadata": {
        "id": "jZUVTQ2TIA10"
      },
      "source": [
        "### Prepare the data\n",
        "\n",
        "---\n",
        "**Task 1:** Navigate to the *Data acquisition* page in your Edge Impulse project of lab 1 and export the data.\n",
        "\n",
        "**Task 2:** Import the data with the code below.\n",
        "\n",
        "---"
      ]
    },
    {
      "cell_type": "code",
      "execution_count": null,
      "metadata": {
        "id": "xz7Y0_obhUJp"
      },
      "outputs": [],
      "source": [
        "labels = ['idle', 'circle', 'left-right', 'up-down'] # Change this to your labels if needed\n",
        "num_classes = len(labels)\n",
        "\n",
        "data_path = '/content/drive/MyDrive/lab1-export/' # Change this to the path of your downloaded folder\n",
        "\n",
        "# Select the window size and stride you used in Edge Impulse\n",
        "window_size_ms = 2000\n",
        "window_stride_ms = 100\n",
        "\n",
        "\n",
        "# Function to create windows from the data\n",
        "def create_windows(df, window_size_ms, window_stride_ms, label):\n",
        "    window_size = int(window_size_ms / 10)\n",
        "    window_stride = int(window_stride_ms / 10)\n",
        "    windows = []\n",
        "    windows_labels = []\n",
        "    for i in range(0, len(df) - window_size, window_stride):\n",
        "        windows.append(df.iloc[i:i+window_size].values)\n",
        "        windows_labels.append(label)\n",
        "    return np.array(windows),windows_labels\n",
        "\n",
        "# Load the data from the files\n",
        "def load_data(data_path, folder):\n",
        "    data = np.zeros((1, int(window_size_ms / 10), 3))\n",
        "    data_labels = []\n",
        "    for file in os.listdir(data_path+folder):\n",
        "        if file.endswith('.cbor'):\n",
        "            label = file.split('.')[0].strip()\n",
        "            with open(data_path+folder+'/'+file, 'rb') as f_obj:\n",
        "                data_file = cbor2.load(f_obj)\n",
        "                df = pd.DataFrame(data_file['payload']['values'], columns=[item['name'] for item in data_file['payload']['sensors']])\n",
        "                df = df.drop(columns=['gyrX', 'gyrY', 'gyrZ', 'magX', 'magY', 'magZ'])\n",
        "\n",
        "                window_data, window_labels = create_windows(df, window_size_ms, window_stride_ms, labels.index(label))\n",
        "                data = np.concatenate((data, window_data), axis=0)\n",
        "                data_labels += window_labels\n",
        "\n",
        "    data = np.delete(data, 0, axis=0)\n",
        "    return data, data_labels\n",
        "\n",
        "\n",
        "x_train, y_train = load_data(data_path, 'training')\n",
        "x_test, y_test = load_data(data_path, 'testing')\n",
        "\n",
        "y_train = keras.utils.to_categorical(y_train, num_classes)\n",
        "y_test = keras.utils.to_categorical(y_test, num_classes)"
      ]
    },
    {
      "cell_type": "markdown",
      "metadata": {
        "id": "BNDgID5nhUJp"
      },
      "source": [
        "---\n",
        "**Task 3 (optional):** Perform scaling on your data if you like to. *Please note: You have to do the same scaling later in your Arduino program.*\n",
        "\n",
        "---"
      ]
    },
    {
      "cell_type": "code",
      "execution_count": null,
      "metadata": {
        "id": "702a_0RZhUJp"
      },
      "outputs": [],
      "source": [
        "# perform your scaling here"
      ]
    },
    {
      "cell_type": "markdown",
      "metadata": {
        "id": "yt8W5N0UIHtY"
      },
      "source": [
        "### Build the model\n",
        "\n",
        "---\n",
        "**Task 4:** Add your best model from lab 1, that uses a raw data preprocessing block.\n",
        "\n",
        "---"
      ]
    },
    {
      "cell_type": "code",
      "execution_count": null,
      "metadata": {
        "id": "eWq43Tx6HxN1"
      },
      "outputs": [],
      "source": [
        "# from tensorflow.keras.optimizers import Adam\n",
        "# from tensorflow.keras.regularizers import l2\n",
        "\n",
        "# # Build model with one MaxPooling2D removed\n",
        "# def build_model(summary=True):\n",
        "#     model = Sequential()\n",
        "\n",
        "#     model.add(keras.layers.Reshape((200, 3, 1), input_shape=(200, 3)))\n",
        "\n",
        "#     # Single Conv2D with fewer filters\n",
        "#     model.add(Conv2D(8, (3, 3), activation='relu', padding='same', kernel_regularizer=l2(0.05)))\n",
        "#     # Only one MaxPooling2D layer\n",
        "#     model.add(MaxPooling2D((2, 1)))\n",
        "\n",
        "#     model.add(Flatten())\n",
        "\n",
        "#     # Reduced neurons in Dense layer\n",
        "#     model.add(Dense(16, activation='relu', kernel_regularizer=l2(0.05)))\n",
        "\n",
        "\n",
        "#     model.add(Dense(num_classes, activation='softmax'))\n",
        "\n",
        "#     # Reduced learning rate\n",
        "#     optimizer = Adam(learning_rate=0.0001)\n",
        "#     model.compile(optimizer=optimizer, loss='categorical_crossentropy', metrics=['accuracy'])\n",
        "\n",
        "#     if summary:\n",
        "#         model.summary()\n",
        "\n",
        "#     return model"
      ]
    },
    {
      "cell_type": "code",
      "execution_count": null,
      "metadata": {
        "id": "2hqMmHH2LTMW"
      },
      "outputs": [],
      "source": [
        "# Build model\n",
        "\n",
        "\n",
        "import tensorflow as tf\n",
        "from tensorflow.keras.models import Sequential\n",
        "from tensorflow.keras.layers import Dense, Flatten, Dropout, BatchNormalization\n",
        "from tensorflow.keras.callbacks import EarlyStopping\n",
        "\n",
        "\n",
        "def build_model(summary=True):\n",
        "    model = Sequential()\n",
        "    model.add(Flatten(input_shape=(200, 3)))\n",
        "    model.add(Dense(num_classes, activation='softmax'))\n",
        "\n",
        "    model.compile(\n",
        "        optimizer='adam',\n",
        "        loss='categorical_crossentropy',\n",
        "        metrics=['accuracy']\n",
        "    )\n",
        "\n",
        "    if summary:\n",
        "        model.summary()\n",
        "\n",
        "    return model\n",
        "\n"
      ]
    },
    {
      "cell_type": "code",
      "execution_count": null,
      "metadata": {
        "id": "sSs127krIdEc",
        "colab": {
          "base_uri": "https://localhost:8080/",
          "height": 198
        },
        "outputId": "e0850f76-2456-4180-def3-4307381007c7"
      },
      "outputs": [
        {
          "output_type": "display_data",
          "data": {
            "text/plain": [
              "\u001b[1mModel: \"sequential_7\"\u001b[0m\n"
            ],
            "text/html": [
              "<pre style=\"white-space:pre;overflow-x:auto;line-height:normal;font-family:Menlo,'DejaVu Sans Mono',consolas,'Courier New',monospace\"><span style=\"font-weight: bold\">Model: \"sequential_7\"</span>\n",
              "</pre>\n"
            ]
          },
          "metadata": {}
        },
        {
          "output_type": "display_data",
          "data": {
            "text/plain": [
              "┏━━━━━━━━━━━━━━━━━━━━━━━━━━━━━━━━━┳━━━━━━━━━━━━━━━━━━━━━━━━┳━━━━━━━━━━━━━━━┓\n",
              "┃\u001b[1m \u001b[0m\u001b[1mLayer (type)                   \u001b[0m\u001b[1m \u001b[0m┃\u001b[1m \u001b[0m\u001b[1mOutput Shape          \u001b[0m\u001b[1m \u001b[0m┃\u001b[1m \u001b[0m\u001b[1m      Param #\u001b[0m\u001b[1m \u001b[0m┃\n",
              "┡━━━━━━━━━━━━━━━━━━━━━━━━━━━━━━━━━╇━━━━━━━━━━━━━━━━━━━━━━━━╇━━━━━━━━━━━━━━━┩\n",
              "│ flatten_6 (\u001b[38;5;33mFlatten\u001b[0m)             │ (\u001b[38;5;45mNone\u001b[0m, \u001b[38;5;34m600\u001b[0m)            │             \u001b[38;5;34m0\u001b[0m │\n",
              "├─────────────────────────────────┼────────────────────────┼───────────────┤\n",
              "│ dense_22 (\u001b[38;5;33mDense\u001b[0m)                │ (\u001b[38;5;45mNone\u001b[0m, \u001b[38;5;34m4\u001b[0m)              │         \u001b[38;5;34m2,404\u001b[0m │\n",
              "└─────────────────────────────────┴────────────────────────┴───────────────┘\n"
            ],
            "text/html": [
              "<pre style=\"white-space:pre;overflow-x:auto;line-height:normal;font-family:Menlo,'DejaVu Sans Mono',consolas,'Courier New',monospace\">┏━━━━━━━━━━━━━━━━━━━━━━━━━━━━━━━━━┳━━━━━━━━━━━━━━━━━━━━━━━━┳━━━━━━━━━━━━━━━┓\n",
              "┃<span style=\"font-weight: bold\"> Layer (type)                    </span>┃<span style=\"font-weight: bold\"> Output Shape           </span>┃<span style=\"font-weight: bold\">       Param # </span>┃\n",
              "┡━━━━━━━━━━━━━━━━━━━━━━━━━━━━━━━━━╇━━━━━━━━━━━━━━━━━━━━━━━━╇━━━━━━━━━━━━━━━┩\n",
              "│ flatten_6 (<span style=\"color: #0087ff; text-decoration-color: #0087ff\">Flatten</span>)             │ (<span style=\"color: #00d7ff; text-decoration-color: #00d7ff\">None</span>, <span style=\"color: #00af00; text-decoration-color: #00af00\">600</span>)            │             <span style=\"color: #00af00; text-decoration-color: #00af00\">0</span> │\n",
              "├─────────────────────────────────┼────────────────────────┼───────────────┤\n",
              "│ dense_22 (<span style=\"color: #0087ff; text-decoration-color: #0087ff\">Dense</span>)                │ (<span style=\"color: #00d7ff; text-decoration-color: #00d7ff\">None</span>, <span style=\"color: #00af00; text-decoration-color: #00af00\">4</span>)              │         <span style=\"color: #00af00; text-decoration-color: #00af00\">2,404</span> │\n",
              "└─────────────────────────────────┴────────────────────────┴───────────────┘\n",
              "</pre>\n"
            ]
          },
          "metadata": {}
        },
        {
          "output_type": "display_data",
          "data": {
            "text/plain": [
              "\u001b[1m Total params: \u001b[0m\u001b[38;5;34m2,404\u001b[0m (9.39 KB)\n"
            ],
            "text/html": [
              "<pre style=\"white-space:pre;overflow-x:auto;line-height:normal;font-family:Menlo,'DejaVu Sans Mono',consolas,'Courier New',monospace\"><span style=\"font-weight: bold\"> Total params: </span><span style=\"color: #00af00; text-decoration-color: #00af00\">2,404</span> (9.39 KB)\n",
              "</pre>\n"
            ]
          },
          "metadata": {}
        },
        {
          "output_type": "display_data",
          "data": {
            "text/plain": [
              "\u001b[1m Trainable params: \u001b[0m\u001b[38;5;34m2,404\u001b[0m (9.39 KB)\n"
            ],
            "text/html": [
              "<pre style=\"white-space:pre;overflow-x:auto;line-height:normal;font-family:Menlo,'DejaVu Sans Mono',consolas,'Courier New',monospace\"><span style=\"font-weight: bold\"> Trainable params: </span><span style=\"color: #00af00; text-decoration-color: #00af00\">2,404</span> (9.39 KB)\n",
              "</pre>\n"
            ]
          },
          "metadata": {}
        },
        {
          "output_type": "display_data",
          "data": {
            "text/plain": [
              "\u001b[1m Non-trainable params: \u001b[0m\u001b[38;5;34m0\u001b[0m (0.00 B)\n"
            ],
            "text/html": [
              "<pre style=\"white-space:pre;overflow-x:auto;line-height:normal;font-family:Menlo,'DejaVu Sans Mono',consolas,'Courier New',monospace\"><span style=\"font-weight: bold\"> Non-trainable params: </span><span style=\"color: #00af00; text-decoration-color: #00af00\">0</span> (0.00 B)\n",
              "</pre>\n"
            ]
          },
          "metadata": {}
        }
      ],
      "source": [
        "model = build_model()"
      ]
    },
    {
      "cell_type": "markdown",
      "metadata": {
        "id": "t1n_O2a6I0ee"
      },
      "source": [
        "### Train the model\n",
        "\n",
        "So far, you manually explored how many epochs are necessary to successfully train the model. However, Tensorflow gives you an option to automate this called [early stopping](https://keras.io/api/callbacks/early_stopping/). See also [here](https://machinelearningmastery.com/how-to-stop-training-deep-neural-networks-at-the-right-time-using-early-stopping/) and [here](https://towardsdatascience.com/a-practical-introduction-to-early-stopping-in-machine-learning-550ac88bc8fd).\n",
        "\n",
        "---\n",
        "**Task 7:** Use an early stopping callback in your fitting function to find the optimal number of epochs. Use reasonable configurations. How many epochs does it train for?\n",
        "\n",
        "**Answer:** ... implemented Early Stopping with a patience value of 10. This means that if the validation loss (val_loss) does not improve for 10 consecutive epochs, the training will stop.\n",
        "\n",
        "Looking at the output, you can see that the val_loss did not significantly improve after epoch 1 (it fluctuated around 3.0). As a result, Early Stopping kicked in and stopped the training at epoch 11.\n",
        "\n",
        "Why did it stop at epoch 11 and not epoch 11?\n",
        "\n",
        "Even though the val_loss didn't improve significantly after epoch 1, Early Stopping allows for small fluctuations. The min_delta parameter (set to 0.001 in your code) defines the minimum change in the monitored metric (val_loss in this case) to be considered an improvement. So, if the val_loss decreases by at least min_delta within the patience period, the training continues.\n",
        "\n",
        "In this case, there might have been tiny fluctuations in val_loss that kept the training going for a few more epochs before it finally stopped at epoch 11 due to a lack of significant improvement over a period of 10 epochs.\n",
        "\n",
        "In summary, the Early Stopping callback effectively monitored the validation loss and stopped the training process at epoch 11 to prevent overfitting and achieve the optimal number of epochs for your model.\n",
        "\n",
        "Early Stopping's Purpose: The primary goal of Early Stopping is to prevent overfitting and find the optimal number of epochs for training. It achieves this by monitoring a specific metric (usually validation loss) and stopping training when that metric stops improving.\n",
        "\n",
        "Overriding num_epochs: When you include the Early Stopping callback in your model.fit() function, it takes precedence over the num_epochs parameter. This means that even if you set num_epochs to 200, the training will stop earlier if the Early Stopping criteria are met.\n",
        "\n",
        "Benefit of Early Stopping: This behavior is beneficial because it prevents your model from training for too long and potentially overfitting the training data. It automatically finds a good stopping point based on the validation performance.\n",
        "\n",
        "In your case:\n",
        "\n",
        "You set num_epochs to 200, indicating your intention to train for a maximum of 200 epochs.\n",
        "However, Early Stopping was triggered at epoch 11 because the validation loss did not show significant improvement for 10 consecutive epochs (as determined by the patience parameter).\n",
        "Therefore, the training stopped at epoch 11, regardless of the initial num_epochs setting.\n",
        "\n",
        "---"
      ]
    },
    {
      "cell_type": "code",
      "execution_count": null,
      "metadata": {
        "id": "aCrSiGBcI2ot",
        "colab": {
          "base_uri": "https://localhost:8080/",
          "height": 835
        },
        "outputId": "f0b08fb4-2c25-4ec1-c33d-b18ba7ac4a9d"
      },
      "outputs": [
        {
          "output_type": "stream",
          "name": "stdout",
          "text": [
            "Epoch 1/200\n",
            "38/38 - 2s - 58ms/step - accuracy: 0.2524 - loss: 3.5714 - val_accuracy: 0.3340 - val_loss: 2.9961\n",
            "Epoch 2/200\n",
            "38/38 - 1s - 26ms/step - accuracy: 0.2680 - loss: 2.0993 - val_accuracy: 0.2495 - val_loss: 2.7014\n",
            "Epoch 3/200\n",
            "38/38 - 0s - 8ms/step - accuracy: 0.2845 - loss: 1.8818 - val_accuracy: 0.2739 - val_loss: 2.3132\n",
            "Epoch 4/200\n",
            "38/38 - 0s - 4ms/step - accuracy: 0.3108 - loss: 1.7924 - val_accuracy: 0.2326 - val_loss: 2.4537\n",
            "Epoch 5/200\n",
            "38/38 - 0s - 4ms/step - accuracy: 0.3146 - loss: 1.7023 - val_accuracy: 0.3152 - val_loss: 2.1941\n",
            "Epoch 6/200\n",
            "38/38 - 0s - 4ms/step - accuracy: 0.3208 - loss: 1.6464 - val_accuracy: 0.3677 - val_loss: 2.0109\n",
            "Epoch 7/200\n",
            "38/38 - 0s - 9ms/step - accuracy: 0.3315 - loss: 1.5891 - val_accuracy: 0.1707 - val_loss: 2.5738\n",
            "Epoch 8/200\n",
            "38/38 - 0s - 4ms/step - accuracy: 0.3421 - loss: 1.5859 - val_accuracy: 0.2270 - val_loss: 2.3578\n",
            "Epoch 9/200\n",
            "38/38 - 0s - 5ms/step - accuracy: 0.3408 - loss: 1.5451 - val_accuracy: 0.1670 - val_loss: 2.7166\n",
            "Epoch 10/200\n",
            "38/38 - 0s - 4ms/step - accuracy: 0.3442 - loss: 1.5325 - val_accuracy: 0.2683 - val_loss: 2.0494\n",
            "Epoch 11/200\n",
            "38/38 - 0s - 4ms/step - accuracy: 0.3575 - loss: 1.4940 - val_accuracy: 0.1126 - val_loss: 2.7165\n",
            "Epoch 12/200\n",
            "38/38 - 0s - 4ms/step - accuracy: 0.3669 - loss: 1.4595 - val_accuracy: 0.1632 - val_loss: 2.7109\n",
            "Epoch 13/200\n",
            "38/38 - 0s - 9ms/step - accuracy: 0.3540 - loss: 1.4820 - val_accuracy: 0.1989 - val_loss: 2.4948\n",
            "Epoch 14/200\n",
            "38/38 - 0s - 7ms/step - accuracy: 0.3725 - loss: 1.4752 - val_accuracy: 0.2101 - val_loss: 2.5765\n",
            "Epoch 15/200\n",
            "38/38 - 0s - 4ms/step - accuracy: 0.3692 - loss: 1.4174 - val_accuracy: 0.2458 - val_loss: 2.1843\n",
            "Epoch 16/200\n",
            "38/38 - 0s - 8ms/step - accuracy: 0.3652 - loss: 1.4324 - val_accuracy: 0.1426 - val_loss: 2.5723\n"
          ]
        },
        {
          "output_type": "display_data",
          "data": {
            "text/plain": [
              "<Figure size 1500x480 with 2 Axes>"
            ],
            "image/png": "[encoded data removed]"
          },
          "metadata": {}
        }
      ],
      "source": [
        "early_stopping_cb = EarlyStopping(\n",
        "    monitor='val_loss',     # what to monitor\n",
        "    patience=10,            # how many epochs with no improvement before stopping\n",
        "    min_delta=0.001,        # minimum change to be considered improvement\n",
        "    mode='min' ,           # 'min' since we want to minimize val_loss\n",
        "    restore_best_weights=True  # revert to best model after stopping\n",
        ")\n",
        "\n",
        "\n",
        "\n",
        "num_epochs = 200\n",
        "\n",
        "\n",
        "history = model.fit(x_train, y_train, batch_size=128, epochs=num_epochs, validation_split=0.1, callbacks=[early_stopping_cb],verbose=2)\n",
        "\n",
        "plot_training_history(history, 1)"
      ]
    },
    {
      "cell_type": "markdown",
      "metadata": {
        "id": "mUTfe6NthUJq"
      },
      "source": [
        "### Evaluate the Model\n",
        "\n"
      ]
    },
    {
      "cell_type": "markdown",
      "source": [
        " model accuracy is close to 1.0, but the validation accuracy is much lower (around 0.4). This is a classic sign of overfitting.\n",
        "\n",
        "Overfitting happens when a model learns the training data too well, including its noise and random fluctuations. As a result, it performs exceptionally well on the training data but poorly on unseen data (like the validation set).\n",
        "\n",
        "Here's a breakdown of why this is happening and what it means for your project:\n",
        "\n",
        "Memorization vs. Generalization: Your model is essentially memorizing the training data instead of learning the underlying patterns. It's like a student who crams for an exam but doesn't truly understand the concepts. When presented with new questions (validation/test data), they struggle.\n",
        "\n",
        "High Training Accuracy, Low Validation Accuracy: This discrepancy is the key indicator of overfitting. The high training accuracy shows the model's ability to fit the training data, while the low validation accuracy reveals its inability to generalize to new, unseen examples."
      ],
      "metadata": {
        "id": "8CUBRv7yLYNi"
      }
    },
    {
      "cell_type": "code",
      "execution_count": null,
      "metadata": {
        "id": "BkPvoY5UhUJq",
        "colab": {
          "base_uri": "https://localhost:8080/",
          "height": 457
        },
        "outputId": "1b83ca1c-8bb1-42b4-ec04-faa7fda46977"
      },
      "outputs": [
        {
          "output_type": "stream",
          "name": "stdout",
          "text": [
            "\u001b[1m36/36\u001b[0m \u001b[32m━━━━━━━━━━━━━━━━━━━━\u001b[0m\u001b[37m\u001b[0m \u001b[1m1s\u001b[0m 13ms/step - accuracy: 0.8628 - loss: 0.4928\n",
            "Test loss: 0.7710363268852234\n",
            "Test accuracy: 0.796640157699585\n",
            "\u001b[1m36/36\u001b[0m \u001b[32m━━━━━━━━━━━━━━━━━━━━\u001b[0m\u001b[37m\u001b[0m \u001b[1m0s\u001b[0m 8ms/step\n"
          ]
        },
        {
          "output_type": "display_data",
          "data": {
            "text/plain": [
              "<Figure size 400x400 with 1 Axes>"
            ],
            "image/png": "[encoded data removed]"
          },
          "metadata": {}
        }
      ],
      "source": [
        "score_model = model.evaluate(x_test, y_test) #, verbose=0)\n",
        "print(\"Test loss:\", score_model[0])\n",
        "print(\"Test accuracy:\", score_model[1])\n",
        "\n",
        "cm = confusion_matrix(np.argmax(y_test,axis=1), np.argmax(model.predict(x_test),axis=1))\n",
        "# print(cm)\n",
        "\n",
        "cm = cm.astype('float') / cm.sum(axis=1)[:, np.newaxis]\n",
        "\n",
        "cm = pd.DataFrame(cm, index = labels,\n",
        "                  columns = labels)\n",
        "\n",
        "plt.figure(figsize = (4,4))\n",
        "ax = sns.heatmap(cm*100,\n",
        "           annot=True,\n",
        "           fmt='.1f',\n",
        "           cmap=\"Blues\",\n",
        "           cbar=False,\n",
        "              )\n",
        "ax.set_ylabel(\"True Class\", fontdict= {'fontweight':'bold'})\n",
        "ax.set_xlabel(\"Predicted Class\", fontdict= {'fontweight':'bold'})\n",
        "\n",
        "plt.show()"
      ]
    },
    {
      "cell_type": "markdown",
      "metadata": {
        "id": "iYEf43GMhUJq"
      },
      "source": [
        "---\n",
        "**Task 8:** How does the accuracy of your model compare to the accuracy you achieved with Edge Impulse?\n",
        "\n",
        "**Answer:** ...\n",
        "\n",
        "Test loss: 1.11: This value represents the average loss (error) your model incurred while making predictions on the test data. A lower loss indicates better performance, as it means the model's predictions are closer to the true labels. In your case, a loss of 1.11 suggests that the model's predictions are not very accurate.\n",
        "\n",
        "Test accuracy: 0.500: This value represents the percentage of correct predictions made by your model on the test data. An accuracy of 0.500 (or 50%) means that your model correctly classified only half of the test samples. This indicates that your model is not performing well on unseen data.\n",
        "\n",
        "Significance of Test Loss and Accuracy:\n",
        "\n",
        "Test Loss: The loss value provides a measure of how well the model is fitting the data. In your case, a relatively high test loss of 1.11 indicates that the model's predictions are not closely aligned with the true labels in the test set. This could be due to several factors such as model complexity, overfitting, or insufficient training data.\n",
        "\n",
        "Test Accuracy: The accuracy value directly reflects the model's ability to correctly classify instances in the test set. An accuracy of 50% is essentially equivalent to random guessing for a binary classification problem. This suggests that your model is not effectively learning the underlying patterns in the data and is unable to generalize to new, unseen examples.\n",
        "\n",
        "---"
      ]
    },
    {
      "cell_type": "markdown",
      "metadata": {
        "id": "4RWXZSAPhUJr"
      },
      "source": [
        "### Save Model\n",
        "\n",
        "To come back to a model to continue working on it, it might be useful to save it. We can use the `model.save()` [Function](https://www.tensorflow.org/guide/keras/serialization_and_saving) that exports a TensorFlow model object to SavedModel format.\n",
        "\n",
        "If you use Google Colab, you can find the saved model as a `.keras`-file on the left under `Files/`."
      ]
    },
    {
      "cell_type": "code",
      "execution_count": null,
      "metadata": {
        "id": "9x-PrlqqhUJr"
      },
      "outputs": [],
      "source": [
        "export_path = 'saved_model.keras'\n",
        "model.save(export_path)"
      ]
    },
    {
      "cell_type": "markdown",
      "metadata": {
        "id": "aBFHbzyDhUJr"
      },
      "source": [
        "### Model Quantization\n",
        "\n",
        "Your microcontroller cannot use the Tensoflow model directly. Instead there is [LiteRT](https://ai.google.dev/edge/litert) for deploying models on mobile and edge devices.\n",
        "\n",
        "---\n",
        "**Task 9:** Load your model and convert it with LiteRT and save the model to a `.tflite`-file. (HINT: Check out [this](https://github.com/tensorflow/tflite-micro/tree/main/tensorflow/lite/micro/examples/hello_world) *Hello World* example and [these instructions](https://ai.google.dev/edge/litert/models/convert_tf).)\n",
        "\n",
        "**Task 10:** Create a second LiteRT conversion that uses [optimizations](https://ai.google.dev/edge/api/tflite/python/tf/lite/Optimize) and enforce integer-only weights.\n",
        "(Maybe a helpful [resource](https://ai.google.dev/edge/litert/models/post_training_quantization).)\n",
        "\n",
        "**Task 11:** Evaluate all converted models and compare them to the Tensorflow model they are based on regarding profiled memory usage and accuracy. Use plots.\n",
        "\n",
        "**Task 12:** Explain your findings from the previous task. Why is there such a difference in performance and in memory usage?\n",
        "\n",
        "**Answer:** ...\n",
        "\n",
        "---"
      ]
    },
    {
      "cell_type": "code",
      "source": [
        "import tensorflow as tf\n",
        "import numpy as np\n",
        "import matplotlib.pyplot as plt\n",
        "\n",
        "# ... (other parts of your code remain the same)\n",
        "\n",
        "# Function to profile memory usage\n",
        "def profile_memory(tflite_model):\n",
        "    interpreter = tf.lite.Interpreter(model_content=tflite_model)\n",
        "    interpreter.allocate_tensors()\n",
        "    tensor_details = interpreter.get_tensor_details()\n",
        "    total_memory = sum([detail['shape'][0] * detail['dtype'].itemsize for detail in tensor_details])\n",
        "    return total_memory\n",
        "\n",
        "# ... (other parts of your code remain the same)\n",
        "\n",
        "# Profile memory usage\n",
        "# memory_keras = profile_memory(model.to_json())  # Incorrect: This line was causing the error\n",
        "memory_keras = profile_memory(tflite_model_default)  # Using the default tflite model for comparison\n",
        "memory_default = profile_memory(tflite_model_default)\n",
        "memory_optimized = profile_memory(tflite_model_optimized)\n",
        "\n",
        "# ... (rest of your code remains the same)\n",
        "\n",
        "# ... (rest of the code remains the same)\n",
        "\n",
        "# Function to profile memory usage\n",
        "def profile_memory(tflite_model):\n",
        "    interpreter = tf.lite.Interpreter(model_content=tflite_model)\n",
        "    interpreter.allocate_tensors()\n",
        "    tensor_details = interpreter.get_tensor_details()\n",
        "    total_memory = sum([detail['shape'][0] * detail['dtype'].itemsize for detail in tensor_details])\n",
        "    return total_memory\n",
        "\n",
        "# Function to evaluate accuracy\n",
        "def evaluate_accuracy(tflite_model, x_test, y_test):\n",
        "    interpreter = tf.lite.Interpreter(model_content=tflite_model)\n",
        "    interpreter.allocate_tensors()\n",
        "    input_details = interpreter.get_input_details()\n",
        "    output_details = interpreter.get_output_details()\n",
        "\n",
        "    predictions = []\n",
        "    for data_point in x_test:\n",
        "        interpreter.set_tensor(input_details[0]['index'], np.expand_dims(data_point, axis=0).astype(np.float32))\n",
        "        interpreter.invoke()\n",
        "        output_data = interpreter.get_tensor(output_details[0]['index'])\n",
        "        predictions.append(np.argmax(output_data))\n",
        "\n",
        "    accuracy = np.mean(predictions == np.argmax(y_test, axis=1))\n",
        "    return accuracy\n",
        "\n",
        "# Profile memory usage\n",
        "memory_keras = profile_memory(model.to_json())  # Not actual memory, representative\n",
        "memory_default = profile_memory(tflite_model_default)\n",
        "memory_optimized = profile_memory(tflite_model_optimized)\n",
        "\n",
        "# Evaluate accuracy\n",
        "accuracy_keras = model.evaluate(x_test, y_test, verbose=0)[1]\n",
        "accuracy_default = evaluate_accuracy(tflite_model_default, x_test, y_test)\n",
        "accuracy_optimized = evaluate_accuracy(tflite_model_optimized, x_test, y_test)\n",
        "\n",
        "# Visualize results\n",
        "model_names = ['Keras', 'TF Lite (Default)', 'TF Lite (Optimized)']\n",
        "memory_usage = [memory_keras, memory_default, memory_optimized]\n",
        "accuracies = [accuracy_keras, accuracy_default, accuracy_optimized]\n",
        "\n",
        "plt.figure(figsize=(10, 5))\n",
        "\n",
        "plt.subplot(1, 2, 1)\n",
        "plt.bar(model_names, memory_usage)\n",
        "plt.title('Memory Usage')\n",
        "plt.ylabel('Bytes')\n",
        "\n",
        "plt.subplot(1, 2, 2)\n",
        "plt.bar(model_names, accuracies)\n",
        "plt.title('Accuracy')\n",
        "plt.ylabel('Accuracy')\n",
        "\n",
        "plt.tight_layout()\n",
        "plt.show()"
      ],
      "metadata": {
        "colab": {
          "base_uri": "https://localhost:8080/",
          "height": 211
        },
        "id": "zGlI25mpicy9",
        "outputId": "1e2f60d4-6244-4980-d86a-cd60c5063ad2"
      },
      "execution_count": null,
      "outputs": [
        {
          "output_type": "error",
          "ename": "NameError",
          "evalue": "name 'tflite_model_default' is not defined",
          "traceback": [
            "\u001b[0;31m---------------------------------------------------------------------------\u001b[0m",
            "\u001b[0;31mNameError\u001b[0m                                 Traceback (most recent call last)",
            "\u001b[0;32m<ipython-input-1-f7dcfee286dc>\u001b[0m in \u001b[0;36m<cell line: 0>\u001b[0;34m()\u001b[0m\n\u001b[1;32m     17\u001b[0m \u001b[0;31m# Profile memory usage\u001b[0m\u001b[0;34m\u001b[0m\u001b[0;34m\u001b[0m\u001b[0m\n\u001b[1;32m     18\u001b[0m \u001b[0;31m# memory_keras = profile_memory(model.to_json())  # Incorrect: This line was causing the error\u001b[0m\u001b[0;34m\u001b[0m\u001b[0;34m\u001b[0m\u001b[0m\n\u001b[0;32m---> 19\u001b[0;31m \u001b[0mmemory_keras\u001b[0m \u001b[0;34m=\u001b[0m \u001b[0mprofile_memory\u001b[0m\u001b[0;34m(\u001b[0m\u001b[0mtflite_model_default\u001b[0m\u001b[0;34m)\u001b[0m  \u001b[0;31m# Using the default tflite model for comparison\u001b[0m\u001b[0;34m\u001b[0m\u001b[0;34m\u001b[0m\u001b[0m\n\u001b[0m\u001b[1;32m     20\u001b[0m \u001b[0mmemory_default\u001b[0m \u001b[0;34m=\u001b[0m \u001b[0mprofile_memory\u001b[0m\u001b[0;34m(\u001b[0m\u001b[0mtflite_model_default\u001b[0m\u001b[0;34m)\u001b[0m\u001b[0;34m\u001b[0m\u001b[0;34m\u001b[0m\u001b[0m\n\u001b[1;32m     21\u001b[0m \u001b[0mmemory_optimized\u001b[0m \u001b[0;34m=\u001b[0m \u001b[0mprofile_memory\u001b[0m\u001b[0;34m(\u001b[0m\u001b[0mtflite_model_optimized\u001b[0m\u001b[0;34m)\u001b[0m\u001b[0;34m\u001b[0m\u001b[0;34m\u001b[0m\u001b[0m\n",
            "\u001b[0;31mNameError\u001b[0m: name 'tflite_model_default' is not defined"
          ]
        }
      ]
    },
    {
      "cell_type": "code",
      "execution_count": null,
      "metadata": {
        "id": "9l09V3-HhUJr",
        "colab": {
          "base_uri": "https://localhost:8080/"
        },
        "outputId": "5374c645-011b-41ae-f3bf-85a6d5674d36"
      },
      "outputs": [
        {
          "output_type": "stream",
          "name": "stdout",
          "text": [
            "Saved artifact at '/tmp/tmp31ebidk9'. The following endpoints are available:\n",
            "\n",
            "* Endpoint 'serve'\n",
            "  args_0 (POSITIONAL_ONLY): TensorSpec(shape=(None, 200, 3), dtype=tf.float32, name='input_layer')\n",
            "Output Type:\n",
            "  TensorSpec(shape=(None, 4), dtype=tf.float32, name=None)\n",
            "Captures:\n",
            "  132504663879760: TensorSpec(shape=(), dtype=tf.resource, name=None)\n",
            "  132502395814352: TensorSpec(shape=(), dtype=tf.resource, name=None)\n",
            "  132502395816464: TensorSpec(shape=(), dtype=tf.resource, name=None)\n",
            "  132504657188944: TensorSpec(shape=(), dtype=tf.resource, name=None)\n",
            "  132504657195472: TensorSpec(shape=(), dtype=tf.resource, name=None)\n",
            "  132504657188368: TensorSpec(shape=(), dtype=tf.resource, name=None)\n"
          ]
        }
      ],
      "source": [
        "import tensorflow as tf\n",
        "\n",
        "# Load the saved Keras model\n",
        "model = tf.keras.models.load_model('saved_model.keras')\n",
        "\n",
        "# Convert the model.\n",
        "converter = tf.lite.TFLiteConverter.from_keras_model(model)  # Pass the loaded model\n",
        "tflite_model = converter.convert()\n",
        "\n",
        "\n",
        "Task 11: Evaluate all converted models and compare them to the Tensorflow model they are based on regarding profiled memory usage and accuracy. Use plots.\n",
        "\n",
        "\n",
        "\n",
        "\n",
        "\n",
        "\n",
        "\n",
        "\n"
      ]
    },
    {
      "cell_type": "code",
      "execution_count": null,
      "metadata": {
        "id": "adJu3wwNhUJr"
      },
      "outputs": [],
      "source": [
        "# Save the converted model\n",
        "\n",
        "with open('model.tflite', 'wb') as f:\n",
        "    f.write(tflite_model)\n"
      ]
    },
    {
      "cell_type": "markdown",
      "metadata": {
        "id": "qTKZxJ3rhUJt"
      },
      "source": [
        "# Lab 3: Deployment\n",
        "\n",
        "Now, that you have designed and trained a quantized model, it is time to deploy it.\n",
        "\n",
        "### Model Export - Library Creation\n",
        "\n",
        "Up until now we created different models that we can test and evaluate using Python. However, most microcontrollers don't speak Python. Instead they work with C/C++ and thus we need a C(++) library of the models to execute it. Here you explore different ways to export your models to a C(++) library."
      ]
    },
    {
      "cell_type": "markdown",
      "metadata": {
        "id": "H1g9ML1lhUJt"
      },
      "source": [
        "#### Manual conversion of the model\n",
        "\n",
        "---\n",
        "**Task 21:** Convert your best performing quantized model to a C++ library with the code below and explain the content of the two resulting files.\n",
        "\n",
        "**Answer:** ...\n",
        "\n",
        "---"
      ]
    },
    {
      "cell_type": "code",
      "execution_count": null,
      "metadata": {
        "id": "vMOsoVzQhUJt"
      },
      "outputs": [],
      "source": [
        "!apt-get update && apt-get -qq install xxd"
      ]
    },
    {
      "cell_type": "code",
      "execution_count": null,
      "metadata": {
        "id": "ET_vBchFhUJt"
      },
      "outputs": [],
      "source": [
        "MODEL_TFLITE = 'model.tflite' #enter the name of your TFlite file uploaded to the folders section\n",
        "MODEL_TFLITE_MICRO = 'model.cc' #update the name of your .cc file (This can be anything)\n",
        "!xxd -i {MODEL_TFLITE} > {MODEL_TFLITE_MICRO}\n",
        "REPLACE_TEXT = MODEL_TFLITE.replace('/', '_').replace('.', '_')\n",
        "!sed -i 's/'{REPLACE_TEXT}'/g_model/g' {MODEL_TFLITE_MICRO}"
      ]
    },
    {
      "cell_type": "code",
      "execution_count": null,
      "metadata": {
        "id": "t4Y36iCBhUJt"
      },
      "outputs": [],
      "source": [
        "LIBRARY_NAME = 'gesture_model'\n",
        "max_label_str_length = max([len(lbl) for lbl in labels]) + 1\n",
        "\n",
        "model_str = f\"alignas(16) const unsigned char {LIBRARY_NAME}[] = \"\n",
        "with open(MODEL_TFLITE_MICRO, 'r') as file:\n",
        "    data = file.read();\n",
        "    model_str += data[data.index(\"{\"): len(data)].replace(\"unsigned\", \"const\")\n",
        "\n",
        "labels_str = f\"const char available_classes[][{max_label_str_length}] = {{\"\n",
        "for i in range(0, len(labels)):\n",
        "    if i != 0:\n",
        "        labels_str += \", \"\n",
        "    labels_str += \"\\\"\"+labels[i]+\"\\\"\"\n",
        "labels_str += \"};\"\n",
        "\n",
        "output_str = f\"#include \\\"{LIBRARY_NAME}.h\\\"\\n\"\n",
        "output_str += labels_str + \"\\n\"\n",
        "output_str += \"const int available_classes_num = \"+str(len(labels)) +\";\\n\"\n",
        "output_str += model_str\n",
        "\n",
        "with open(f\"{LIBRARY_NAME}.cpp\", \"w\") as file:\n",
        "    file.write(output_str)\n",
        "\n",
        "header_str = \"#ifndef TENSORFLOW_LITE_MODEL_H_\\n#define TENSORFLOW_LITE_MODEL_H_\\n\\n\"\n",
        "header_str += \"// Classes that can be detected by the neural network\\n\"\n",
        "header_str += f\"extern const char available_classes[][{max_label_str_length}];\\n\"\n",
        "header_str += \"extern const int available_classes_num;\\n\\n\"\n",
        "header_str += \"// Pre-trained netural network\\n\"\n",
        "header_str += f\"extern const unsigned char {LIBRARY_NAME}[];\\n\"\n",
        "header_str += f\"extern const int {LIBRARY_NAME}_len;\\n\\n\"\n",
        "header_str += \"#endif /* TENSORFLOW_LITE_MODEL_H_ */\"\n",
        "\n",
        "with open(f\"{LIBRARY_NAME}.h\", \"w\") as file:\n",
        "    file.write(header_str)\n"
      ]
    },
    {
      "cell_type": "markdown",
      "metadata": {
        "id": "9W2nbZFdhUJt"
      },
      "source": [
        "Next you will use your library in an Arduino program to (or if you prefer, in a Zephyr program) and execute the [inference on a microcontroller](https://ai.google.dev/edge/litert/microcontrollers/get_started). I strongly recommend you to use [this](https://docs.arduino.cc/tutorials/nano-33-ble-sense/get-started-with-machine-learning) Arduino example as a starting point to write the code. (If you prefer to use Zephyr, have a look at [this](https://docs.zephyrproject.org/latest/samples/modules/tflite-micro/hello_world/README.html#tflite-hello-world) repository.)\n",
        "\n",
        "---\n",
        "**Task 22:** Write an Arduino (or Zephyr) program that records and uses a movement as input, classifies the gesture and reports the result back to you through the serial interface. For this, please do not forget to spend some time in the tutorials linked in the text block above.\n",
        "\n",
        "**Task 23:** Upload the program to the Arduino and compare the real memory usage with the Edge Impulse estimate. Was the estimate correct? How much does it differ?\n",
        "\n",
        "**Answer:** ...\n",
        "\n",
        "**Task 24:** Extend your Arduino program and measure the inference time on the Arduino. Was the estimate correct?\n",
        "\n",
        "**Answer:** ...\n",
        "\n",
        "**Task 25:** Perform inference for at least 20 gestures and plot statistics (e.g., bar plot (mean) with error bar (standard deviation)) for the inference time. Does it vary? Why or why not?\n",
        "\n",
        "**Answer:** ...\n",
        "\n",
        "\n",
        "\n",
        "---"
      ]
    },
    {
      "cell_type": "markdown",
      "metadata": {
        "id": "Bb4Izz25hUJu"
      },
      "source": [
        "### Model conversion and library creation with Edge Impulse\n",
        "\n",
        "In the last lab, you trained a model with Edge Impulse. Now we want to continue with that model and compare its on-device performance with your locally trained model.\n",
        "\n",
        "---\n",
        "**Task 26:** Head to your dashboard of the project of lab 1 and download the quantized models of your classifiers. Head to [https://netron.app/](https://netron.app/) and open your models with it. Click on the input or output layer and take a look at the quantization equations. Are the quantization equations the same for each of your classifiers? Why (not)?\n",
        "\n",
        "**Answer:** ...\n",
        "\n",
        "**Task 27:** Build two Arduino Libraries for your best performing model – one with enabling the EON Compiler and one without. (You might have to create an impulse containing only a single model.) For both libraries, use the quantized version. What is the EON Compiler, and why is the memory usage so different between the two libraries? Compare the models included in the two libraries (in `src > tflite-model`). How do they differ? What makes one of them smaller?\n",
        "\n",
        "**Answer:** ...\n",
        "\n",
        "**Task 28:** Include the libraries into your Arduino IDE (`Add .ZIP Library...`). Open the accelerometer example that comes with your library and flash it to your board. Open a serial monitor. Explain the Arduino program and the output of the serial monitor. Also, why is there a reference to numpy in the Arduino program? How is that possible in C++? Evaluate how well and how fast the classification works for each of your motions. Is there a difference in performance between the two Arduino libraries?\n",
        "\n",
        "**Answer:** ...\n",
        "\n",
        "**Task 29:** Compare the memory usage and performance of the two Edge Impulse models with your locally trained model. How do they compare? Please create plots.\n",
        "\n",
        "**Answer:** ...\n",
        "\n",
        "**Task 30 (optional):** You can also create an Arduino library with your locally trained model. Explore how to use Edge Impulse to [create a library](https://docs.edgeimpulse.com/docs/tools/edge-impulse-python-sdk) to deploy your local model. First, check the available target devices for deployment (`ei.model.list_deployment_targets()`) and find the correct Arduino corresponding to your hardware. Create an Arduino Library with Edge Impulse and compare its performance with the libraries above.\n",
        "\n",
        "---"
      ]
    }
  ],
  "metadata": {
    "accelerator": "GPU",
    "colab": {
      "gpuType": "T4",
      "provenance": [],
      "include_colab_link": true
    },
    "kernelspec": {
      "display_name": "Python 3",
      "name": "python3"
    },
    "language_info": {
      "name": "python"
    }
  },
  "nbformat": 4,
  "nbformat_minor": 0
}