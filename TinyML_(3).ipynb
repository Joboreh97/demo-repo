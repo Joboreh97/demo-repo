{
  "cells": [
    {
      "cell_type": "markdown",
      "metadata": {
        "id": "view-in-github",
        "colab_type": "text"
      },
      "source": [
        "<a href=\"https://colab.research.google.com/github/Joboreh97/demo-repo/blob/main/TinyML_(3).ipynb\" target=\"_parent\"><img src=\"https://colab.research.google.com/assets/colab-badge.svg\" alt=\"Open In Colab\"/></a>"
      ]
    },
    {
      "cell_type": "markdown",
      "metadata": {
        "id": "MzHYKcWEHTGu"
      },
      "source": [
        "<table class=\"tfo-notebook-buttons\" align=\"left\">\n",
        "  <td>\n",
        "    <a target=\"_blank\" href=\"https://colab.research.google.com/github/ds-kiel/TinyML-Labs/blob/WS24-25/Lab2.ipynb\"><img src=\"https://www.tensorflow.org/images/colab_logo_32px.png\" />Run in Google Colab</a>\n",
        "  </td>\n",
        "  <td>\n",
        "    <a target=\"_blank\" href=\"https://github.com/ds-kiel/TinyML-Labs/blob/WS24-25/Lab2.ipynb\"><img src=\"https://www.tensorflow.org/images/GitHub-Mark-32px.png\" />View source on GitHub</a>\n",
        "  </td>\n",
        "  <td>\n",
        "    <a href=\"https://raw.githubusercontent.com/ds-kiel/TinyML-Labs/WS24-25/Lab2.ipynb\" download><img src=\"https://www.tensorflow.org/images/download_logo_32px.png\" />Download notebook</a>\n",
        "  </td>\n",
        "</table>"
      ]
    },
    {
      "cell_type": "markdown",
      "metadata": {
        "id": "OvrMU-DIHePo"
      },
      "source": [
        "# Quantization and On-Device Execution (Lab 2 & 3)\n",
        "\n",
        "In the first lab you looked at the first part of the pipeline from data to executing models on low-power devices. You explored how to preprocess data and train neural networks with Edge Impulse. In this lab we continue the pipeline and you will explore how to [convert](https://ai.google.dev/edge/litert/models/convert_tf) a model to a [LiteRT](https://ai.google.dev/edge/litert) model, how to [quantize](https://ai.google.dev/edge/litert/models/post_training_integer_quant) [a model](https://www.tensorflow.org/model_optimization/guide/quantization/post_training), how to use [quantization-aware training](https://www.tensorflow.org/model_optimization/guide/quantization/training) and finally how to deploy the model and use the model with a microcontroller. **Come back to these documents in case you get stuck**.\n",
        "\n",
        "You will explore the full pipeline from data to device using Tensorflow. You will train a model and convert, deploy, and execute it on a microcontroller, specifically the [Arduino Nano 33 BLE Sense](https://store.arduino.cc/products/arduino-tiny-machine-learning-kit).\n",
        "\n",
        "This file is for both labs 2 and 3. Lab 2 is about generating a model in TF and quanizizing it. Lab 3 is then about the deployment.\n",
        "\n",
        "## Environment\n",
        "\n",
        "The instructions for this lab come as a [Jupyter Notebook](https://jupyter.org/). You can run it locally in your own Python environment, but we recommend you to use [Google Colab](https://colab.research.google.com) to save your compute ressources, have an instantly working python environment, and allow for easy collaboration. If your decide to use your local computer, take a look at Python virtual environments to avoid messing with your usual Python environment.\n",
        "\n",
        "## What do you need to hand in?\n",
        "\n",
        "Please complete the tasks by (a) completing the coding tasks and (b) answer the questions (please write a few lines directly in the notebook after the **Answer:** element). Thus, this Jupyter Notebook is intended as a document that you use both for working on the lab as well as for answering the questions. Once completed with lab 2 (or lab 3) let the teacher know. Be ready to demonstrate your results and show your code & answers to the tasks."
      ]
    },
    {
      "cell_type": "markdown",
      "source": [
        "# Lab 2: Quantization"
      ],
      "metadata": {
        "id": "AA7veEy6jbjE"
      }
    },
    {
      "cell_type": "markdown",
      "metadata": {
        "id": "p2d8yFY1GUX1"
      },
      "source": [
        "## Setup"
      ]
    },
    {
      "cell_type": "code",
      "execution_count": 1,
      "metadata": {
        "id": "fOJvKcsUGWH1"
      },
      "outputs": [],
      "source": [
        "# If you have not done so already, install the following dependencies (if you are in a local envoronment, you might need to install some more)\n",
        "!python -m pip install tensorflow>=2.3 matplotlib seaborn cbor2"
      ]
    },
    {
      "cell_type": "markdown",
      "metadata": {
        "id": "eTICd15rGZGx"
      },
      "source": [
        "### Imports"
      ]
    },
    {
      "cell_type": "code",
      "execution_count": 2,
      "metadata": {
        "id": "y7yRUuJUGaq-",
        "colab": {
          "base_uri": "https://localhost:8080/"
        },
        "outputId": "656d414f-d2d4-400f-b2ff-084dea586035"
      },
      "outputs": [
        {
          "output_type": "stream",
          "name": "stdout",
          "text": [
            "Mounted at /content/drive\n"
          ]
        }
      ],
      "source": [
        "import numpy as np\n",
        "import pandas as pd\n",
        "import os\n",
        "import cbor2\n",
        "\n",
        "import tensorflow as tf\n",
        "from tensorflow import keras\n",
        "from keras.models import Sequential\n",
        "from keras.layers import Conv2D, MaxPooling2D, Dense, Flatten, Dropout\n",
        "from keras.callbacks import EarlyStopping\n",
        "\n",
        "from sklearn.model_selection import train_test_split\n",
        "from sklearn.metrics import confusion_matrix\n",
        "#import edgeimpulse as ei\n",
        "\n",
        "import matplotlib.pyplot as plt\n",
        "import seaborn as sns\n",
        "\n",
        "#disable this if you are not using Google Colab\n",
        "from google.colab import drive\n",
        "drive.mount('/content/drive')"
      ]
    },
    {
      "cell_type": "markdown",
      "metadata": {
        "id": "yhIKkymAGfqu"
      },
      "source": [
        "### Helper Functions"
      ]
    },
    {
      "cell_type": "code",
      "execution_count": 3,
      "metadata": {
        "id": "WRxTHnJcGk0a"
      },
      "outputs": [],
      "source": [
        "def plot_training_history(history, model_name):\n",
        "    fig, (ax1, ax2) = plt.subplots(1, 2)\n",
        "    fig.suptitle(f'Model {model_name}')\n",
        "    fig.set_figwidth(15)\n",
        "\n",
        "    ax1.plot(range(1, len(history.history['accuracy'])+1), history.history['accuracy'])\n",
        "    ax1.plot(range(1, len(history.history['val_accuracy'])+1), history.history['val_accuracy'])\n",
        "    ax1.set_title('Model accuracy')\n",
        "    ax1.set(xlabel='epoch', ylabel='accuracy')\n",
        "    ax1.legend(['training', 'validation'], loc='best')\n",
        "\n",
        "    ax2.plot(range(1, len(history.history['loss'])+1), history.history['loss'])\n",
        "    ax2.plot(range(1, len(history.history['val_loss'])+1), history.history['val_loss'])\n",
        "    ax2.set_title('Model loss')\n",
        "    ax2.set(xlabel='epoch', ylabel='loss')\n",
        "    ax2.legend(['training', 'validation'], loc='best')\n",
        "    plt.show()"
      ]
    },
    {
      "cell_type": "markdown",
      "metadata": {
        "id": "mp9j7urCG-6E"
      },
      "source": [
        "## Edge Impulse Dataset"
      ]
    },
    {
      "cell_type": "markdown",
      "metadata": {
        "id": "jZUVTQ2TIA10"
      },
      "source": [
        "### Prepare the data\n",
        "\n",
        "---\n",
        "**Task 1:** Navigate to the *Data acquisition* page in your Edge Impulse project of lab 1 and export the data.\n",
        "\n",
        "**Task 2:** Import the data with the code below.\n",
        "\n",
        "---"
      ]
    },
    {
      "cell_type": "code",
      "execution_count": 4,
      "metadata": {
        "id": "xz7Y0_obhUJp"
      },
      "outputs": [],
      "source": [
        "labels = ['idle', 'circle', 'left-right', 'up-down'] # Change this to your labels if needed\n",
        "num_classes = len(labels)\n",
        "\n",
        "data_path = '/content/drive/MyDrive/lab1_redo-export' # Change this to the path of your downloaded folder\n",
        "\n",
        "# Select the window size and stride you used in Edge Impulse\n",
        "window_size_ms = 2000\n",
        "window_stride_ms = 100\n",
        "\n",
        "\n",
        "# Function to create windows from the data\n",
        "def create_windows(df, window_size_ms, window_stride_ms, label):\n",
        "    window_size = int(window_size_ms / 10)\n",
        "    window_stride = int(window_stride_ms / 10)\n",
        "    windows = []\n",
        "    windows_labels = []\n",
        "    for i in range(0, len(df) - window_size, window_stride):\n",
        "        windows.append(df.iloc[i:i+window_size].values)\n",
        "        windows_labels.append(label)\n",
        "    return np.array(windows),windows_labels\n",
        "\n",
        "# Load the data from the files\n",
        "def load_data(data_path, folder):\n",
        "    data = np.zeros((1, int(window_size_ms / 10), 3))\n",
        "    data_labels = []\n",
        "\n",
        "    full_folder_path = os.path.join(data_path, folder)\n",
        "\n",
        "    for file in os.listdir(full_folder_path):\n",
        "        if file.endswith('.cbor'):\n",
        "            label = file.split('.')[0].strip()\n",
        "            file_path = os.path.join(full_folder_path, file)\n",
        "\n",
        "            with open(file_path, 'rb') as f_obj:\n",
        "                data_file = cbor2.load(f_obj)\n",
        "                df = pd.DataFrame(\n",
        "                    data_file['payload']['values'],\n",
        "                    columns=[item['name'] for item in data_file['payload']['sensors']]\n",
        "                )\n",
        "                df = df.drop(columns=['gyrX', 'gyrY', 'gyrZ', 'magX', 'magY', 'magZ'])\n",
        "\n",
        "                window_data, window_labels = create_windows(df, window_size_ms, window_stride_ms, labels.index(label))\n",
        "                data = np.concatenate((data, window_data), axis=0)\n",
        "                data_labels += window_labels\n",
        "\n",
        "    data = np.delete(data, 0, axis=0)\n",
        "    return data, data_labels\n",
        "\n",
        "\n",
        "x_train, y_train = load_data(data_path, 'training')\n",
        "x_test, y_test = load_data(data_path, 'testing')\n",
        "\n",
        "y_train = keras.utils.to_categorical(y_train, num_classes)\n",
        "y_test = keras.utils.to_categorical(y_test, num_classes)"
      ]
    },
    {
      "cell_type": "markdown",
      "metadata": {
        "id": "BNDgID5nhUJp"
      },
      "source": [
        "---\n",
        "**Task 3 (optional):** Perform scaling on your data if you like to. *Please note: You have to do the same scaling later in your Arduino program.*\n",
        "\n",
        "---"
      ]
    },
    {
      "cell_type": "code",
      "execution_count": 7,
      "metadata": {
        "id": "702a_0RZhUJp"
      },
      "outputs": [],
      "source": [
        "# perform your scaling here"
      ]
    },
    {
      "cell_type": "markdown",
      "metadata": {
        "id": "yt8W5N0UIHtY"
      },
      "source": [
        "### Build the model\n",
        "\n",
        "---\n",
        "**Task 4:** Add your best model from lab 1, that uses a raw data preprocessing block.\n",
        "\n",
        "---"
      ]
    },
    {
      "cell_type": "code",
      "execution_count": 8,
      "metadata": {
        "id": "eWq43Tx6HxN1"
      },
      "outputs": [],
      "source": [
        "# from tensorflow.keras.models import Sequential\n",
        "# from tensorflow.keras.layers import Reshape, Conv1D, MaxPooling1D, Flatten, Dense, Dropout\n",
        "# input_length =1980\n",
        "# # Build model\n",
        "# def build_model(summary=True):\n",
        "#     model = Sequential()\n",
        "\n",
        "#     # ADD YOUR LAYERS HERE\n",
        "#     model.add(Reshape((int(input_length / 1), 1), input_shape=(input_length, )))\n",
        "#     model.add(Conv1D(8, kernel_size=3, padding='same', activation='relu'))\n",
        "#     model.add(MaxPooling1D(pool_size=2, strides=2, padding='same'))\n",
        "#     model.add(Conv1D(8, kernel_size=3, padding='same', activation='relu'))\n",
        "#     model.add(MaxPooling1D(pool_size=2, strides=2, padding='same'))\n",
        "#     model.add(Dense(num_classes, activation='softmax'))\n",
        "\n",
        "#     # Compile model\n",
        "#     model.compile(\n",
        "#         optimizer='adam',\n",
        "#         loss='categorical_crossentropy',\n",
        "#         metrics=['accuracy']\n",
        "#     )\n",
        "\n",
        "#     if summary:\n",
        "#         model.summary()\n",
        "\n",
        "#     return model"
      ]
    },
    {
      "cell_type": "code",
      "source": [
        "# from tensorflow.keras.models import Sequential\n",
        "# from tensorflow.keras.layers import Conv1D, MaxPooling1D, Flatten, Dense, Dropout\n",
        "\n",
        "# # Update this based on your windowing (2000 ms / 10 ms = 200 time steps, 3 axes)\n",
        "# input_shape = (200, 3)\n",
        "\n",
        "# def build_model(summary=True):\n",
        "#     model = Sequential()\n",
        "\n",
        "#     model.add(Conv1D(8, kernel_size=3, padding='same', activation='relu', input_shape=input_shape))\n",
        "#     model.add(MaxPooling1D(pool_size=2, strides=2, padding='same'))\n",
        "#     model.add(Conv1D(8, kernel_size=3, padding='same', activation='relu'))\n",
        "#     model.add(MaxPooling1D(pool_size=2, strides=2, padding='same'))\n",
        "#     model.add(Flatten())\n",
        "#     model.add(Dense(32, activation='relu'))\n",
        "#     model.add(Dropout(0.5))\n",
        "#     model.add(Dense(num_classes, activation='softmax'))\n",
        "\n",
        "#     model.compile(\n",
        "#         optimizer='adam',\n",
        "#         loss='categorical_crossentropy',\n",
        "#         metrics=['accuracy']\n",
        "#     )\n",
        "\n",
        "#     if summary:\n",
        "#         model.summary()\n",
        "\n",
        "#     return model\n"
      ],
      "metadata": {
        "id": "q95sUfYAyv7u"
      },
      "execution_count": null,
      "outputs": []
    },
    {
      "cell_type": "code",
      "source": [
        "from tensorflow.keras.models import Sequential\n",
        "from tensorflow.keras.layers import Conv1D, MaxPooling1D, Flatten, Dense, Dropout\n",
        "\n",
        "def build_model(summary=True):\n",
        "    model = Sequential()\n",
        "\n",
        "    # Input shape should match your data: (200, 3)\n",
        "    model.add(Conv1D(8, kernel_size=3, padding='same', activation='relu',\n",
        "                     input_shape=(200, 3)))\n",
        "    model.add(MaxPooling1D(pool_size=2, strides=2, padding='same'))\n",
        "    model.add(Conv1D(8, kernel_size=3, padding='same', activation='relu'))\n",
        "    model.add(MaxPooling1D(pool_size=2, strides=2, padding='same'))\n",
        "    model.add(Flatten())  # Flatten before Dense layer\n",
        "    model.add(Dense(num_classes, activation='softmax'))\n",
        "\n",
        "    model.compile(\n",
        "        optimizer='adam',\n",
        "        loss='categorical_crossentropy',\n",
        "        metrics=['accuracy']\n",
        "    )\n",
        "\n",
        "    if summary:\n",
        "        model.summary()\n",
        "\n",
        "    return model\n"
      ],
      "metadata": {
        "id": "fE3DsB6pUI8c"
      },
      "execution_count": 5,
      "outputs": []
    },
    {
      "cell_type": "code",
      "source": [
        "from tensorflow.keras.models import Sequential\n",
        "from tensorflow.keras.layers import Reshape, Conv1D, MaxPooling1D, Flatten, Dense, Dropout\n",
        "\n",
        "input_length = 1980  # each input sample is a 1D vector of length 1980\n",
        "\n",
        "def build_model(summary=True):\n",
        "    model = Sequential()\n",
        "\n",
        "    # Reshape from (1980,) to (1980, 1) so Conv1D can process it as a sequence\n",
        "    model.add(Reshape((input_length, 1), input_shape=(input_length,)))\n",
        "\n",
        "    model.add(Conv1D(8, kernel_size=3, padding='same', activation='relu'))\n",
        "    model.add(MaxPooling1D(pool_size=2, strides=2, padding='same'))\n",
        "    model.add(Conv1D(8, kernel_size=3, padding='same', activation='relu'))\n",
        "    model.add(MaxPooling1D(pool_size=2, strides=2, padding='same'))\n",
        "    model.add(Flatten())\n",
        "    model.add(Dense(32, activation='relu'))\n",
        "    model.add(Dropout(0.5))\n",
        "    model.add(Dense(num_classes, activation='softmax'))\n",
        "\n",
        "    model.compile(\n",
        "        optimizer='adam',\n",
        "        loss='categorical_crossentropy',\n",
        "        metrics=['accuracy']\n",
        "    )\n",
        "\n",
        "    if summary:\n",
        "        model.summary()\n",
        "\n",
        "    return model\n"
      ],
      "metadata": {
        "id": "rFjCFhBqzW1a"
      },
      "execution_count": null,
      "outputs": []
    },
    {
      "cell_type": "code",
      "execution_count": 6,
      "metadata": {
        "id": "sSs127krIdEc",
        "colab": {
          "base_uri": "https://localhost:8080/",
          "height": 385
        },
        "outputId": "ad4bbde3-8db4-4324-abb1-e4fc63a168e3"
      },
      "outputs": [
        {
          "output_type": "stream",
          "name": "stderr",
          "text": [
            "/usr/local/lib/python3.11/dist-packages/keras/src/layers/convolutional/base_conv.py:107: UserWarning: Do not pass an `input_shape`/`input_dim` argument to a layer. When using Sequential models, prefer using an `Input(shape)` object as the first layer in the model instead.\n",
            "  super().__init__(activity_regularizer=activity_regularizer, **kwargs)\n"
          ]
        },
        {
          "output_type": "display_data",
          "data": {
            "text/plain": [
              "\u001b[1mModel: \"sequential\"\u001b[0m\n"
            ],
            "text/html": [
              "<pre style=\"white-space:pre;overflow-x:auto;line-height:normal;font-family:Menlo,'DejaVu Sans Mono',consolas,'Courier New',monospace\"><span style=\"font-weight: bold\">Model: \"sequential\"</span>\n",
              "</pre>\n"
            ]
          },
          "metadata": {}
        },
        {
          "output_type": "display_data",
          "data": {
            "text/plain": [
              "┏━━━━━━━━━━━━━━━━━━━━━━━━━━━━━━━━━┳━━━━━━━━━━━━━━━━━━━━━━━━┳━━━━━━━━━━━━━━━┓\n",
              "┃\u001b[1m \u001b[0m\u001b[1mLayer (type)                   \u001b[0m\u001b[1m \u001b[0m┃\u001b[1m \u001b[0m\u001b[1mOutput Shape          \u001b[0m\u001b[1m \u001b[0m┃\u001b[1m \u001b[0m\u001b[1m      Param #\u001b[0m\u001b[1m \u001b[0m┃\n",
              "┡━━━━━━━━━━━━━━━━━━━━━━━━━━━━━━━━━╇━━━━━━━━━━━━━━━━━━━━━━━━╇━━━━━━━━━━━━━━━┩\n",
              "│ conv1d (\u001b[38;5;33mConv1D\u001b[0m)                 │ (\u001b[38;5;45mNone\u001b[0m, \u001b[38;5;34m200\u001b[0m, \u001b[38;5;34m8\u001b[0m)         │            \u001b[38;5;34m80\u001b[0m │\n",
              "├─────────────────────────────────┼────────────────────────┼───────────────┤\n",
              "│ max_pooling1d (\u001b[38;5;33mMaxPooling1D\u001b[0m)    │ (\u001b[38;5;45mNone\u001b[0m, \u001b[38;5;34m100\u001b[0m, \u001b[38;5;34m8\u001b[0m)         │             \u001b[38;5;34m0\u001b[0m │\n",
              "├─────────────────────────────────┼────────────────────────┼───────────────┤\n",
              "│ conv1d_1 (\u001b[38;5;33mConv1D\u001b[0m)               │ (\u001b[38;5;45mNone\u001b[0m, \u001b[38;5;34m100\u001b[0m, \u001b[38;5;34m8\u001b[0m)         │           \u001b[38;5;34m200\u001b[0m │\n",
              "├─────────────────────────────────┼────────────────────────┼───────────────┤\n",
              "│ max_pooling1d_1 (\u001b[38;5;33mMaxPooling1D\u001b[0m)  │ (\u001b[38;5;45mNone\u001b[0m, \u001b[38;5;34m50\u001b[0m, \u001b[38;5;34m8\u001b[0m)          │             \u001b[38;5;34m0\u001b[0m │\n",
              "├─────────────────────────────────┼────────────────────────┼───────────────┤\n",
              "│ flatten (\u001b[38;5;33mFlatten\u001b[0m)               │ (\u001b[38;5;45mNone\u001b[0m, \u001b[38;5;34m400\u001b[0m)            │             \u001b[38;5;34m0\u001b[0m │\n",
              "├─────────────────────────────────┼────────────────────────┼───────────────┤\n",
              "│ dense (\u001b[38;5;33mDense\u001b[0m)                   │ (\u001b[38;5;45mNone\u001b[0m, \u001b[38;5;34m4\u001b[0m)              │         \u001b[38;5;34m1,604\u001b[0m │\n",
              "└─────────────────────────────────┴────────────────────────┴───────────────┘\n"
            ],
            "text/html": [
              "<pre style=\"white-space:pre;overflow-x:auto;line-height:normal;font-family:Menlo,'DejaVu Sans Mono',consolas,'Courier New',monospace\">┏━━━━━━━━━━━━━━━━━━━━━━━━━━━━━━━━━┳━━━━━━━━━━━━━━━━━━━━━━━━┳━━━━━━━━━━━━━━━┓\n",
              "┃<span style=\"font-weight: bold\"> Layer (type)                    </span>┃<span style=\"font-weight: bold\"> Output Shape           </span>┃<span style=\"font-weight: bold\">       Param # </span>┃\n",
              "┡━━━━━━━━━━━━━━━━━━━━━━━━━━━━━━━━━╇━━━━━━━━━━━━━━━━━━━━━━━━╇━━━━━━━━━━━━━━━┩\n",
              "│ conv1d (<span style=\"color: #0087ff; text-decoration-color: #0087ff\">Conv1D</span>)                 │ (<span style=\"color: #00d7ff; text-decoration-color: #00d7ff\">None</span>, <span style=\"color: #00af00; text-decoration-color: #00af00\">200</span>, <span style=\"color: #00af00; text-decoration-color: #00af00\">8</span>)         │            <span style=\"color: #00af00; text-decoration-color: #00af00\">80</span> │\n",
              "├─────────────────────────────────┼────────────────────────┼───────────────┤\n",
              "│ max_pooling1d (<span style=\"color: #0087ff; text-decoration-color: #0087ff\">MaxPooling1D</span>)    │ (<span style=\"color: #00d7ff; text-decoration-color: #00d7ff\">None</span>, <span style=\"color: #00af00; text-decoration-color: #00af00\">100</span>, <span style=\"color: #00af00; text-decoration-color: #00af00\">8</span>)         │             <span style=\"color: #00af00; text-decoration-color: #00af00\">0</span> │\n",
              "├─────────────────────────────────┼────────────────────────┼───────────────┤\n",
              "│ conv1d_1 (<span style=\"color: #0087ff; text-decoration-color: #0087ff\">Conv1D</span>)               │ (<span style=\"color: #00d7ff; text-decoration-color: #00d7ff\">None</span>, <span style=\"color: #00af00; text-decoration-color: #00af00\">100</span>, <span style=\"color: #00af00; text-decoration-color: #00af00\">8</span>)         │           <span style=\"color: #00af00; text-decoration-color: #00af00\">200</span> │\n",
              "├─────────────────────────────────┼────────────────────────┼───────────────┤\n",
              "│ max_pooling1d_1 (<span style=\"color: #0087ff; text-decoration-color: #0087ff\">MaxPooling1D</span>)  │ (<span style=\"color: #00d7ff; text-decoration-color: #00d7ff\">None</span>, <span style=\"color: #00af00; text-decoration-color: #00af00\">50</span>, <span style=\"color: #00af00; text-decoration-color: #00af00\">8</span>)          │             <span style=\"color: #00af00; text-decoration-color: #00af00\">0</span> │\n",
              "├─────────────────────────────────┼────────────────────────┼───────────────┤\n",
              "│ flatten (<span style=\"color: #0087ff; text-decoration-color: #0087ff\">Flatten</span>)               │ (<span style=\"color: #00d7ff; text-decoration-color: #00d7ff\">None</span>, <span style=\"color: #00af00; text-decoration-color: #00af00\">400</span>)            │             <span style=\"color: #00af00; text-decoration-color: #00af00\">0</span> │\n",
              "├─────────────────────────────────┼────────────────────────┼───────────────┤\n",
              "│ dense (<span style=\"color: #0087ff; text-decoration-color: #0087ff\">Dense</span>)                   │ (<span style=\"color: #00d7ff; text-decoration-color: #00d7ff\">None</span>, <span style=\"color: #00af00; text-decoration-color: #00af00\">4</span>)              │         <span style=\"color: #00af00; text-decoration-color: #00af00\">1,604</span> │\n",
              "└─────────────────────────────────┴────────────────────────┴───────────────┘\n",
              "</pre>\n"
            ]
          },
          "metadata": {}
        },
        {
          "output_type": "display_data",
          "data": {
            "text/plain": [
              "\u001b[1m Total params: \u001b[0m\u001b[38;5;34m1,884\u001b[0m (7.36 KB)\n"
            ],
            "text/html": [
              "<pre style=\"white-space:pre;overflow-x:auto;line-height:normal;font-family:Menlo,'DejaVu Sans Mono',consolas,'Courier New',monospace\"><span style=\"font-weight: bold\"> Total params: </span><span style=\"color: #00af00; text-decoration-color: #00af00\">1,884</span> (7.36 KB)\n",
              "</pre>\n"
            ]
          },
          "metadata": {}
        },
        {
          "output_type": "display_data",
          "data": {
            "text/plain": [
              "\u001b[1m Trainable params: \u001b[0m\u001b[38;5;34m1,884\u001b[0m (7.36 KB)\n"
            ],
            "text/html": [
              "<pre style=\"white-space:pre;overflow-x:auto;line-height:normal;font-family:Menlo,'DejaVu Sans Mono',consolas,'Courier New',monospace\"><span style=\"font-weight: bold\"> Trainable params: </span><span style=\"color: #00af00; text-decoration-color: #00af00\">1,884</span> (7.36 KB)\n",
              "</pre>\n"
            ]
          },
          "metadata": {}
        },
        {
          "output_type": "display_data",
          "data": {
            "text/plain": [
              "\u001b[1m Non-trainable params: \u001b[0m\u001b[38;5;34m0\u001b[0m (0.00 B)\n"
            ],
            "text/html": [
              "<pre style=\"white-space:pre;overflow-x:auto;line-height:normal;font-family:Menlo,'DejaVu Sans Mono',consolas,'Courier New',monospace\"><span style=\"font-weight: bold\"> Non-trainable params: </span><span style=\"color: #00af00; text-decoration-color: #00af00\">0</span> (0.00 B)\n",
              "</pre>\n"
            ]
          },
          "metadata": {}
        }
      ],
      "source": [
        "model = build_model()"
      ]
    },
    {
      "cell_type": "markdown",
      "metadata": {
        "id": "t1n_O2a6I0ee"
      },
      "source": [
        "### Train the model\n",
        "\n",
        "So far, you manually explored how many epochs are necessary to successfully train the model. However, Tensorflow gives you an option to automate this called [early stopping](https://keras.io/api/callbacks/early_stopping/). See also [here](https://machinelearningmastery.com/how-to-stop-training-deep-neural-networks-at-the-right-time-using-early-stopping/) and [here](https://towardsdatascience.com/a-practical-introduction-to-early-stopping-in-machine-learning-550ac88bc8fd).\n",
        "\n",
        "---\n",
        "**Task 7:** Use an early stopping callback in your fitting function to find the optimal number of epochs. Use reasonable configurations. How many epochs does it train for?\n",
        "\n",
        "**Answer:** ...\n",
        "\n",
        "---21 epochs"
      ]
    },
    {
      "cell_type": "code",
      "execution_count": 7,
      "metadata": {
        "id": "aCrSiGBcI2ot",
        "colab": {
          "base_uri": "https://localhost:8080/",
          "height": 1000
        },
        "outputId": "6adfa5c4-5bb1-4e9f-9db4-fcb9a595f430"
      },
      "outputs": [
        {
          "output_type": "stream",
          "name": "stdout",
          "text": [
            "Epoch 1/200\n",
            "\u001b[1m36/36\u001b[0m \u001b[32m━━━━━━━━━━━━━━━━━━━━\u001b[0m\u001b[37m\u001b[0m \u001b[1m6s\u001b[0m 71ms/step - accuracy: 0.3075 - loss: 1.5428 - val_accuracy: 0.1836 - val_loss: 1.5565\n",
            "Epoch 2/200\n",
            "\u001b[1m36/36\u001b[0m \u001b[32m━━━━━━━━━━━━━━━━━━━━\u001b[0m\u001b[37m\u001b[0m \u001b[1m5s\u001b[0m 4ms/step - accuracy: 0.6488 - loss: 0.9270 - val_accuracy: 0.4631 - val_loss: 1.4118\n",
            "Epoch 3/200\n",
            "\u001b[1m36/36\u001b[0m \u001b[32m━━━━━━━━━━━━━━━━━━━━\u001b[0m\u001b[37m\u001b[0m \u001b[1m0s\u001b[0m 4ms/step - accuracy: 0.8100 - loss: 0.6124 - val_accuracy: 0.6946 - val_loss: 0.8438\n",
            "Epoch 4/200\n",
            "\u001b[1m36/36\u001b[0m \u001b[32m━━━━━━━━━━━━━━━━━━━━\u001b[0m\u001b[37m\u001b[0m \u001b[1m0s\u001b[0m 4ms/step - accuracy: 0.8671 - loss: 0.4118 - val_accuracy: 0.7385 - val_loss: 0.6909\n",
            "Epoch 5/200\n",
            "\u001b[1m36/36\u001b[0m \u001b[32m━━━━━━━━━━━━━━━━━━━━\u001b[0m\u001b[37m\u001b[0m \u001b[1m0s\u001b[0m 4ms/step - accuracy: 0.8787 - loss: 0.3279 - val_accuracy: 0.8523 - val_loss: 0.4426\n",
            "Epoch 6/200\n",
            "\u001b[1m36/36\u001b[0m \u001b[32m━━━━━━━━━━━━━━━━━━━━\u001b[0m\u001b[37m\u001b[0m \u001b[1m0s\u001b[0m 4ms/step - accuracy: 0.8991 - loss: 0.2698 - val_accuracy: 0.8882 - val_loss: 0.3828\n",
            "Epoch 7/200\n",
            "\u001b[1m36/36\u001b[0m \u001b[32m━━━━━━━━━━━━━━━━━━━━\u001b[0m\u001b[37m\u001b[0m \u001b[1m0s\u001b[0m 4ms/step - accuracy: 0.9233 - loss: 0.2068 - val_accuracy: 0.8962 - val_loss: 0.3136\n",
            "Epoch 8/200\n",
            "\u001b[1m36/36\u001b[0m \u001b[32m━━━━━━━━━━━━━━━━━━━━\u001b[0m\u001b[37m\u001b[0m \u001b[1m0s\u001b[0m 4ms/step - accuracy: 0.9278 - loss: 0.1857 - val_accuracy: 0.8842 - val_loss: 0.3254\n",
            "Epoch 9/200\n",
            "\u001b[1m36/36\u001b[0m \u001b[32m━━━━━━━━━━━━━━━━━━━━\u001b[0m\u001b[37m\u001b[0m \u001b[1m0s\u001b[0m 4ms/step - accuracy: 0.9456 - loss: 0.1547 - val_accuracy: 0.8942 - val_loss: 0.3360\n",
            "Epoch 10/200\n",
            "\u001b[1m36/36\u001b[0m \u001b[32m━━━━━━━━━━━━━━━━━━━━\u001b[0m\u001b[37m\u001b[0m \u001b[1m0s\u001b[0m 4ms/step - accuracy: 0.9537 - loss: 0.1280 - val_accuracy: 0.9222 - val_loss: 0.2623\n",
            "Epoch 11/200\n",
            "\u001b[1m36/36\u001b[0m \u001b[32m━━━━━━━━━━━━━━━━━━━━\u001b[0m\u001b[37m\u001b[0m \u001b[1m0s\u001b[0m 5ms/step - accuracy: 0.9671 - loss: 0.1070 - val_accuracy: 0.9182 - val_loss: 0.2570\n",
            "Epoch 12/200\n",
            "\u001b[1m36/36\u001b[0m \u001b[32m━━━━━━━━━━━━━━━━━━━━\u001b[0m\u001b[37m\u001b[0m \u001b[1m0s\u001b[0m 5ms/step - accuracy: 0.9756 - loss: 0.0874 - val_accuracy: 0.8782 - val_loss: 0.3490\n",
            "Epoch 13/200\n",
            "\u001b[1m36/36\u001b[0m \u001b[32m━━━━━━━━━━━━━━━━━━━━\u001b[0m\u001b[37m\u001b[0m \u001b[1m0s\u001b[0m 4ms/step - accuracy: 0.9862 - loss: 0.0727 - val_accuracy: 0.8862 - val_loss: 0.3098\n",
            "Epoch 14/200\n",
            "\u001b[1m36/36\u001b[0m \u001b[32m━━━━━━━━━━━━━━━━━━━━\u001b[0m\u001b[37m\u001b[0m \u001b[1m0s\u001b[0m 7ms/step - accuracy: 0.9873 - loss: 0.0587 - val_accuracy: 0.8603 - val_loss: 0.3964\n",
            "Epoch 15/200\n",
            "\u001b[1m36/36\u001b[0m \u001b[32m━━━━━━━━━━━━━━━━━━━━\u001b[0m\u001b[37m\u001b[0m \u001b[1m0s\u001b[0m 7ms/step - accuracy: 0.9961 - loss: 0.0484 - val_accuracy: 0.8962 - val_loss: 0.3284\n",
            "Epoch 16/200\n",
            "\u001b[1m36/36\u001b[0m \u001b[32m━━━━━━━━━━━━━━━━━━━━\u001b[0m\u001b[37m\u001b[0m \u001b[1m0s\u001b[0m 6ms/step - accuracy: 0.9965 - loss: 0.0382 - val_accuracy: 0.8842 - val_loss: 0.3701\n",
            "Epoch 17/200\n",
            "\u001b[1m36/36\u001b[0m \u001b[32m━━━━━━━━━━━━━━━━━━━━\u001b[0m\u001b[37m\u001b[0m \u001b[1m0s\u001b[0m 6ms/step - accuracy: 0.9972 - loss: 0.0333 - val_accuracy: 0.8942 - val_loss: 0.3219\n",
            "Epoch 18/200\n",
            "\u001b[1m36/36\u001b[0m \u001b[32m━━━━━━━━━━━━━━━━━━━━\u001b[0m\u001b[37m\u001b[0m \u001b[1m0s\u001b[0m 6ms/step - accuracy: 0.9996 - loss: 0.0263 - val_accuracy: 0.8902 - val_loss: 0.3439\n",
            "Epoch 19/200\n",
            "\u001b[1m36/36\u001b[0m \u001b[32m━━━━━━━━━━━━━━━━━━━━\u001b[0m\u001b[37m\u001b[0m \u001b[1m0s\u001b[0m 7ms/step - accuracy: 0.9993 - loss: 0.0241 - val_accuracy: 0.8902 - val_loss: 0.3681\n",
            "Epoch 20/200\n",
            "\u001b[1m36/36\u001b[0m \u001b[32m━━━━━━━━━━━━━━━━━━━━\u001b[0m\u001b[37m\u001b[0m \u001b[1m0s\u001b[0m 7ms/step - accuracy: 0.9996 - loss: 0.0195 - val_accuracy: 0.8882 - val_loss: 0.3772\n",
            "Epoch 21/200\n",
            "\u001b[1m36/36\u001b[0m \u001b[32m━━━━━━━━━━━━━━━━━━━━\u001b[0m\u001b[37m\u001b[0m \u001b[1m0s\u001b[0m 7ms/step - accuracy: 0.9998 - loss: 0.0179 - val_accuracy: 0.8902 - val_loss: 0.3771\n"
          ]
        },
        {
          "output_type": "display_data",
          "data": {
            "text/plain": [
              "<Figure size 1500x480 with 2 Axes>"
            ],
            "image/png": "[encoded data removed]"
          },
          "metadata": {}
        }
      ],
      "source": [
        "early_stopping_cb = EarlyStopping(\n",
        "    monitor='val_loss',     # what to monitor\n",
        "    patience=10,            # how many epochs with no improvement before stopping\n",
        "    min_delta=0.001,        # minimum change to be considered improvement\n",
        "    mode='min' ,           # 'min' since we want to minimize val_loss\n",
        ")\n",
        "\n",
        "num_epochs = 200\n",
        "history = model.fit(x_train, y_train, batch_size=128, epochs=num_epochs, validation_split=0.1, callbacks=[early_stopping_cb])\n",
        "plot_training_history(history, 1)"
      ]
    },
    {
      "cell_type": "markdown",
      "metadata": {
        "id": "mUTfe6NthUJq"
      },
      "source": [
        "### Evaluate the Model\n",
        "\n"
      ]
    },
    {
      "cell_type": "code",
      "execution_count": 8,
      "metadata": {
        "id": "BkPvoY5UhUJq",
        "colab": {
          "base_uri": "https://localhost:8080/",
          "height": 457
        },
        "outputId": "4cb74f4c-d890-4912-9d9b-3e1a7648025e"
      },
      "outputs": [
        {
          "output_type": "stream",
          "name": "stdout",
          "text": [
            "\u001b[1m46/46\u001b[0m \u001b[32m━━━━━━━━━━━━━━━━━━━━\u001b[0m\u001b[37m\u001b[0m \u001b[1m1s\u001b[0m 12ms/step - accuracy: 0.6512 - loss: 5.3745\n",
            "Test loss: 3.848418951034546\n",
            "Test accuracy: 0.7111417055130005\n",
            "\u001b[1m46/46\u001b[0m \u001b[32m━━━━━━━━━━━━━━━━━━━━\u001b[0m\u001b[37m\u001b[0m \u001b[1m1s\u001b[0m 9ms/step\n"
          ]
        },
        {
          "output_type": "display_data",
          "data": {
            "text/plain": [
              "<Figure size 400x400 with 1 Axes>"
            ],
            "image/png": "[encoded data removed]"
          },
          "metadata": {}
        }
      ],
      "source": [
        "score_model = model.evaluate(x_test, y_test) #, verbose=0)\n",
        "print(\"Test loss:\", score_model[0])\n",
        "print(\"Test accuracy:\", score_model[1])\n",
        "\n",
        "cm = confusion_matrix(np.argmax(y_test,axis=1), np.argmax(model.predict(x_test),axis=1))\n",
        "# print(cm)\n",
        "\n",
        "cm = cm.astype('float') / cm.sum(axis=1)[:, np.newaxis]\n",
        "\n",
        "cm = pd.DataFrame(cm, index = labels,\n",
        "                  columns = labels)\n",
        "\n",
        "plt.figure(figsize = (4,4))\n",
        "ax = sns.heatmap(cm*100,\n",
        "           annot=True,\n",
        "           fmt='.1f',\n",
        "           cmap=\"Blues\",\n",
        "           cbar=False,\n",
        "              )\n",
        "ax.set_ylabel(\"True Class\", fontdict= {'fontweight':'bold'})\n",
        "ax.set_xlabel(\"Predicted Class\", fontdict= {'fontweight':'bold'})\n",
        "\n",
        "plt.show()"
      ]
    },
    {
      "cell_type": "markdown",
      "metadata": {
        "id": "iYEf43GMhUJq"
      },
      "source": [
        "---\n",
        "**Task 8:** How does the accuracy of your model compare to the accuracy you achieved with Edge Impulse?\n",
        "\n",
        "**Answer:** ...\n",
        "The accuracy has similar value , 99%\n",
        "\n",
        "---"
      ]
    },
    {
      "cell_type": "markdown",
      "metadata": {
        "id": "4RWXZSAPhUJr"
      },
      "source": [
        "### Save Model\n",
        "\n",
        "To come back to a model to continue working on it, it might be useful to save it. We can use the `model.save()` [Function](https://www.tensorflow.org/guide/keras/serialization_and_saving) that exports a TensorFlow model object to SavedModel format.\n",
        "\n",
        "If you use Google Colab, you can find the saved model as a `.keras`-file on the left under `Files/`."
      ]
    },
    {
      "cell_type": "code",
      "execution_count": 9,
      "metadata": {
        "id": "9x-PrlqqhUJr"
      },
      "outputs": [],
      "source": [
        "export_path = 'saved_model.keras'\n",
        "model.save(export_path)"
      ]
    },
    {
      "cell_type": "markdown",
      "metadata": {
        "id": "aBFHbzyDhUJr"
      },
      "source": [
        "### Model Quantization\n",
        "\n",
        "Your microcontroller cannot use the Tensoflow model directly. Instead there is [LiteRT](https://ai.google.dev/edge/litert) for deploying models on mobile and edge devices.\n",
        "\n",
        "---\n",
        "**Task 9:** Load your model and convert it with LiteRT and save the model to a `.tflite`-file. (HINT: Check out [this](https://github.com/tensorflow/tflite-micro/tree/main/tensorflow/lite/micro/examples/hello_world) *Hello World* example and [these instructions](https://ai.google.dev/edge/litert/models/convert_tf).)\n",
        "\n",
        "**Task 10:** Create a second LiteRT conversion that uses [optimizations](https://ai.google.dev/edge/api/tflite/python/tf/lite/Optimize) and enforce integer-only weights.\n",
        "(Maybe a helpful [resource](https://ai.google.dev/edge/litert/models/post_training_quantization).)\n",
        "\n",
        "**Task 11:** Evaluate all converted models and compare them to the Tensorflow model they are based on regarding profiled memory usage and accuracy. Use plots.\n",
        "\n",
        "**Task 12:** Explain your findings from the previous task. Why is there such a difference in performance and in memory usage?\n",
        "\n",
        "**Answer:** ...\n",
        "\n",
        "---"
      ]
    },
    {
      "cell_type": "code",
      "execution_count": null,
      "metadata": {
        "id": "9l09V3-HhUJr"
      },
      "outputs": [],
      "source": [
        "# ADD YOUR MODEL CONVERSIONS HERE"
      ]
    },
    {
      "cell_type": "code",
      "execution_count": null,
      "metadata": {
        "id": "adJu3wwNhUJr"
      },
      "outputs": [],
      "source": [
        "# Save the converted model\n",
        "\n",
        "with open('model.tflite', 'wb') as f:\n",
        "    f.write(tflite_model)\n"
      ]
    },
    {
      "cell_type": "markdown",
      "metadata": {
        "id": "qTKZxJ3rhUJt"
      },
      "source": [
        "# Lab 3: Deployment\n",
        "\n",
        "Now, that you have designed and trained a quantized model, it is time to deploy it.\n",
        "\n",
        "### Model Export - Library Creation\n",
        "\n",
        "Up until now we created different models that we can test and evaluate using Python. However, most microcontrollers don't speak Python. Instead they work with C/C++ and thus we need a C(++) library of the models to execute it. Here you explore different ways to export your models to a C(++) library."
      ]
    },
    {
      "cell_type": "markdown",
      "metadata": {
        "id": "H1g9ML1lhUJt"
      },
      "source": [
        "#### Manual conversion of the model\n",
        "\n",
        "---\n",
        "**Task 21:** Convert your best performing quantized model to a C++ library with the code below and explain the content of the two resulting files.\n",
        "\n",
        "**Answer:** ...\n",
        "\n",
        "---"
      ]
    },
    {
      "cell_type": "code",
      "execution_count": null,
      "metadata": {
        "id": "vMOsoVzQhUJt"
      },
      "outputs": [],
      "source": [
        "!apt-get update && apt-get -qq install xxd"
      ]
    },
    {
      "cell_type": "code",
      "execution_count": null,
      "metadata": {
        "id": "ET_vBchFhUJt"
      },
      "outputs": [],
      "source": [
        "MODEL_TFLITE = 'model.tflite' #enter the name of your TFlite file uploaded to the folders section\n",
        "MODEL_TFLITE_MICRO = 'model.cc' #update the name of your .cc file (This can be anything)\n",
        "!xxd -i {MODEL_TFLITE} > {MODEL_TFLITE_MICRO}\n",
        "REPLACE_TEXT = MODEL_TFLITE.replace('/', '_').replace('.', '_')\n",
        "!sed -i 's/'{REPLACE_TEXT}'/g_model/g' {MODEL_TFLITE_MICRO}"
      ]
    },
    {
      "cell_type": "code",
      "execution_count": null,
      "metadata": {
        "id": "t4Y36iCBhUJt"
      },
      "outputs": [],
      "source": [
        "LIBRARY_NAME = 'gesture_model'\n",
        "max_label_str_length = max([len(lbl) for lbl in labels]) + 1\n",
        "\n",
        "model_str = f\"alignas(16) const unsigned char {LIBRARY_NAME}[] = \"\n",
        "with open(MODEL_TFLITE_MICRO, 'r') as file:\n",
        "    data = file.read();\n",
        "    model_str += data[data.index(\"{\"): len(data)].replace(\"unsigned\", \"const\")\n",
        "\n",
        "labels_str = f\"const char available_classes[][{max_label_str_length}] = {{\"\n",
        "for i in range(0, len(labels)):\n",
        "    if i != 0:\n",
        "        labels_str += \", \"\n",
        "    labels_str += \"\\\"\"+labels[i]+\"\\\"\"\n",
        "labels_str += \"};\"\n",
        "\n",
        "output_str = f\"#include \\\"{LIBRARY_NAME}.h\\\"\\n\"\n",
        "output_str += labels_str + \"\\n\"\n",
        "output_str += \"const int available_classes_num = \"+str(len(labels)) +\";\\n\"\n",
        "output_str += model_str\n",
        "\n",
        "with open(f\"{LIBRARY_NAME}.cpp\", \"w\") as file:\n",
        "    file.write(output_str)\n",
        "\n",
        "header_str = \"#ifndef TENSORFLOW_LITE_MODEL_H_\\n#define TENSORFLOW_LITE_MODEL_H_\\n\\n\"\n",
        "header_str += \"// Classes that can be detected by the neural network\\n\"\n",
        "header_str += f\"extern const char available_classes[][{max_label_str_length}];\\n\"\n",
        "header_str += \"extern const int available_classes_num;\\n\\n\"\n",
        "header_str += \"// Pre-trained netural network\\n\"\n",
        "header_str += f\"extern const unsigned char {LIBRARY_NAME}[];\\n\"\n",
        "header_str += f\"extern const int {LIBRARY_NAME}_len;\\n\\n\"\n",
        "header_str += \"#endif /* TENSORFLOW_LITE_MODEL_H_ */\"\n",
        "\n",
        "with open(f\"{LIBRARY_NAME}.h\", \"w\") as file:\n",
        "    file.write(header_str)\n"
      ]
    },
    {
      "cell_type": "markdown",
      "metadata": {
        "id": "9W2nbZFdhUJt"
      },
      "source": [
        "Next you will use your library in an Arduino program to (or if you prefer, in a Zephyr program) and execute the [inference on a microcontroller](https://ai.google.dev/edge/litert/microcontrollers/get_started). I strongly recommend you to use [this](https://docs.arduino.cc/tutorials/nano-33-ble-sense/get-started-with-machine-learning) Arduino example as a starting point to write the code. (If you prefer to use Zephyr, have a look at [this](https://docs.zephyrproject.org/latest/samples/modules/tflite-micro/hello_world/README.html#tflite-hello-world) repository.)\n",
        "\n",
        "---\n",
        "**Task 22:** Write an Arduino (or Zephyr) program that records and uses a movement as input, classifies the gesture and reports the result back to you through the serial interface. For this, please do not forget to spend some time in the tutorials linked in the text block above.\n",
        "\n",
        "**Task 23:** Upload the program to the Arduino and compare the real memory usage with the Edge Impulse estimate. Was the estimate correct? How much does it differ?\n",
        "\n",
        "**Answer:** ...\n",
        "\n",
        "**Task 24:** Extend your Arduino program and measure the inference time on the Arduino. Was the estimate correct?\n",
        "\n",
        "**Answer:** ...\n",
        "\n",
        "**Task 25:** Perform inference for at least 20 gestures and plot statistics (e.g., bar plot (mean) with error bar (standard deviation)) for the inference time. Does it vary? Why or why not?\n",
        "\n",
        "**Answer:** ...\n",
        "\n",
        "\n",
        "\n",
        "---"
      ]
    },
    {
      "cell_type": "markdown",
      "metadata": {
        "id": "Bb4Izz25hUJu"
      },
      "source": [
        "### Model conversion and library creation with Edge Impulse\n",
        "\n",
        "In the last lab, you trained a model with Edge Impulse. Now we want to continue with that model and compare its on-device performance with your locally trained model.\n",
        "\n",
        "---\n",
        "**Task 26:** Head to your dashboard of the project of lab 1 and download the quantized models of your classifiers. Head to [https://netron.app/](https://netron.app/) and open your models with it. Click on the input or output layer and take a look at the quantization equations. Are the quantization equations the same for each of your classifiers? Why (not)?\n",
        "\n",
        "**Answer:** ...\n",
        "\n",
        "**Task 27:** Build two Arduino Libraries for your best performing model – one with enabling the EON Compiler and one without. (You might have to create an impulse containing only a single model.) For both libraries, use the quantized version. What is the EON Compiler, and why is the memory usage so different between the two libraries? Compare the models included in the two libraries (in `src > tflite-model`). How do they differ? What makes one of them smaller?\n",
        "\n",
        "**Answer:** ...\n",
        "\n",
        "**Task 28:** Include the libraries into your Arduino IDE (`Add .ZIP Library...`). Open the accelerometer example that comes with your library and flash it to your board. Open a serial monitor. Explain the Arduino program and the output of the serial monitor. Also, why is there a reference to numpy in the Arduino program? How is that possible in C++? Evaluate how well and how fast the classification works for each of your motions. Is there a difference in performance between the two Arduino libraries?\n",
        "\n",
        "**Answer:** ...\n",
        "\n",
        "**Task 29:** Compare the memory usage and performance of the two Edge Impulse models with your locally trained model. How do they compare? Please create plots.\n",
        "\n",
        "**Answer:** ...\n",
        "\n",
        "**Task 30 (optional):** You can also create an Arduino library with your locally trained model. Explore how to use Edge Impulse to [create a library](https://docs.edgeimpulse.com/docs/tools/edge-impulse-python-sdk) to deploy your local model. First, check the available target devices for deployment (`ei.model.list_deployment_targets()`) and find the correct Arduino corresponding to your hardware. Create an Arduino Library with Edge Impulse and compare its performance with the libraries above.\n",
        "\n",
        "---"
      ]
    }
  ],
  "metadata": {
    "accelerator": "GPU",
    "colab": {
      "gpuType": "T4",
      "provenance": [],
      "include_colab_link": true
    },
    "kernelspec": {
      "display_name": "Python 3",
      "name": "python3"
    },
    "language_info": {
      "name": "python"
    }
  },
  "nbformat": 4,
  "nbformat_minor": 0
}